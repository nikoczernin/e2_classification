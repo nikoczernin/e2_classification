{
 "cells": [
  {
   "cell_type": "code",
   "execution_count": 2,
   "id": "bf5ae3d5-5c32-4571-ae0b-b237212e6c76",
   "metadata": {},
   "outputs": [
    {
     "name": "stdout",
     "output_type": "stream",
     "text": [
      "Requirement already satisfied: pandas in /Users/nikolaus/Documents/Uni/TU/Machine Learning/1_dataset_description/venv/lib/python3.10/site-packages (2.1.1)\r\n",
      "Requirement already satisfied: tzdata>=2022.1 in /Users/nikolaus/Documents/Uni/TU/Machine Learning/1_dataset_description/venv/lib/python3.10/site-packages (from pandas) (2023.3)\r\n",
      "Requirement already satisfied: pytz>=2020.1 in /Users/nikolaus/Documents/Uni/TU/Machine Learning/1_dataset_description/venv/lib/python3.10/site-packages (from pandas) (2023.3.post1)\r\n",
      "Requirement already satisfied: numpy>=1.22.4 in /Users/nikolaus/Documents/Uni/TU/Machine Learning/1_dataset_description/venv/lib/python3.10/site-packages (from pandas) (1.26.1)\r\n",
      "Requirement already satisfied: python-dateutil>=2.8.2 in /Users/nikolaus/Documents/Uni/TU/Machine Learning/1_dataset_description/venv/lib/python3.10/site-packages (from pandas) (2.8.2)\r\n",
      "Requirement already satisfied: six>=1.5 in /Users/nikolaus/Documents/Uni/TU/Machine Learning/1_dataset_description/venv/lib/python3.10/site-packages (from python-dateutil>=2.8.2->pandas) (1.16.0)\r\n",
      "\u001B[33mWARNING: You are using pip version 21.3.1; however, version 24.0 is available.\r\n",
      "You should consider upgrading via the '/Users/nikolaus/Documents/Uni/TU/Machine Learning/1_dataset_description/venv/bin/python -m pip install --upgrade pip' command.\u001B[0m\r\n",
      "Requirement already satisfied: openml in /Users/nikolaus/Documents/Uni/TU/Machine Learning/1_dataset_description/venv/lib/python3.10/site-packages (0.14.1)\r\n",
      "Requirement already satisfied: scikit-learn>=0.18 in /Users/nikolaus/Documents/Uni/TU/Machine Learning/1_dataset_description/venv/lib/python3.10/site-packages (from openml) (1.3.1)\r\n",
      "Requirement already satisfied: requests in /Users/nikolaus/Documents/Uni/TU/Machine Learning/1_dataset_description/venv/lib/python3.10/site-packages (from openml) (2.31.0)\r\n",
      "Requirement already satisfied: numpy>=1.6.2 in /Users/nikolaus/Documents/Uni/TU/Machine Learning/1_dataset_description/venv/lib/python3.10/site-packages (from openml) (1.26.1)\r\n",
      "Requirement already satisfied: scipy>=0.13.3 in /Users/nikolaus/Documents/Uni/TU/Machine Learning/1_dataset_description/venv/lib/python3.10/site-packages (from openml) (1.11.3)\r\n",
      "Requirement already satisfied: xmltodict in /Users/nikolaus/Documents/Uni/TU/Machine Learning/1_dataset_description/venv/lib/python3.10/site-packages (from openml) (0.13.0)\r\n",
      "Requirement already satisfied: liac-arff>=2.4.0 in /Users/nikolaus/Documents/Uni/TU/Machine Learning/1_dataset_description/venv/lib/python3.10/site-packages (from openml) (2.5.0)\r\n",
      "Requirement already satisfied: pyarrow in /Users/nikolaus/Documents/Uni/TU/Machine Learning/1_dataset_description/venv/lib/python3.10/site-packages (from openml) (13.0.0)\r\n",
      "Requirement already satisfied: minio in /Users/nikolaus/Documents/Uni/TU/Machine Learning/1_dataset_description/venv/lib/python3.10/site-packages (from openml) (7.1.17)\r\n",
      "Requirement already satisfied: pandas>=1.0.0 in /Users/nikolaus/Documents/Uni/TU/Machine Learning/1_dataset_description/venv/lib/python3.10/site-packages (from openml) (2.1.1)\r\n",
      "Requirement already satisfied: python-dateutil in /Users/nikolaus/Documents/Uni/TU/Machine Learning/1_dataset_description/venv/lib/python3.10/site-packages (from openml) (2.8.2)\r\n",
      "Requirement already satisfied: tzdata>=2022.1 in /Users/nikolaus/Documents/Uni/TU/Machine Learning/1_dataset_description/venv/lib/python3.10/site-packages (from pandas>=1.0.0->openml) (2023.3)\r\n",
      "Requirement already satisfied: pytz>=2020.1 in /Users/nikolaus/Documents/Uni/TU/Machine Learning/1_dataset_description/venv/lib/python3.10/site-packages (from pandas>=1.0.0->openml) (2023.3.post1)\r\n",
      "Requirement already satisfied: six>=1.5 in /Users/nikolaus/Documents/Uni/TU/Machine Learning/1_dataset_description/venv/lib/python3.10/site-packages (from python-dateutil->openml) (1.16.0)\r\n",
      "Requirement already satisfied: joblib>=1.1.1 in /Users/nikolaus/Documents/Uni/TU/Machine Learning/1_dataset_description/venv/lib/python3.10/site-packages (from scikit-learn>=0.18->openml) (1.3.2)\r\n",
      "Requirement already satisfied: threadpoolctl>=2.0.0 in /Users/nikolaus/Documents/Uni/TU/Machine Learning/1_dataset_description/venv/lib/python3.10/site-packages (from scikit-learn>=0.18->openml) (3.2.0)\r\n",
      "Requirement already satisfied: certifi in /Users/nikolaus/Documents/Uni/TU/Machine Learning/1_dataset_description/venv/lib/python3.10/site-packages (from minio->openml) (2023.7.22)\r\n",
      "Requirement already satisfied: urllib3 in /Users/nikolaus/Documents/Uni/TU/Machine Learning/1_dataset_description/venv/lib/python3.10/site-packages (from minio->openml) (2.0.7)\r\n",
      "Requirement already satisfied: idna<4,>=2.5 in /Users/nikolaus/Documents/Uni/TU/Machine Learning/1_dataset_description/venv/lib/python3.10/site-packages (from requests->openml) (3.4)\r\n",
      "Requirement already satisfied: charset-normalizer<4,>=2 in /Users/nikolaus/Documents/Uni/TU/Machine Learning/1_dataset_description/venv/lib/python3.10/site-packages (from requests->openml) (3.3.0)\r\n",
      "\u001B[33mWARNING: You are using pip version 21.3.1; however, version 24.0 is available.\r\n",
      "You should consider upgrading via the '/Users/nikolaus/Documents/Uni/TU/Machine Learning/1_dataset_description/venv/bin/python -m pip install --upgrade pip' command.\u001B[0m\r\n",
      "Requirement already satisfied: nbconvert in /Users/nikolaus/Documents/Uni/TU/Machine Learning/1_dataset_description/venv/lib/python3.10/site-packages (7.9.2)\r\n",
      "Requirement already satisfied: jinja2>=3.0 in /Users/nikolaus/Documents/Uni/TU/Machine Learning/1_dataset_description/venv/lib/python3.10/site-packages (from nbconvert) (3.1.2)\r\n",
      "Requirement already satisfied: jupyter-core>=4.7 in /Users/nikolaus/Documents/Uni/TU/Machine Learning/1_dataset_description/venv/lib/python3.10/site-packages (from nbconvert) (5.4.0)\r\n",
      "Requirement already satisfied: traitlets>=5.1 in /Users/nikolaus/Documents/Uni/TU/Machine Learning/1_dataset_description/venv/lib/python3.10/site-packages (from nbconvert) (5.11.2)\r\n",
      "Requirement already satisfied: jupyterlab-pygments in /Users/nikolaus/Documents/Uni/TU/Machine Learning/1_dataset_description/venv/lib/python3.10/site-packages (from nbconvert) (0.2.2)\r\n",
      "Requirement already satisfied: mistune<4,>=2.0.3 in /Users/nikolaus/Documents/Uni/TU/Machine Learning/1_dataset_description/venv/lib/python3.10/site-packages (from nbconvert) (3.0.2)\r\n",
      "Requirement already satisfied: pygments>=2.4.1 in /Users/nikolaus/Documents/Uni/TU/Machine Learning/1_dataset_description/venv/lib/python3.10/site-packages (from nbconvert) (2.16.1)\r\n",
      "Requirement already satisfied: defusedxml in /Users/nikolaus/Documents/Uni/TU/Machine Learning/1_dataset_description/venv/lib/python3.10/site-packages (from nbconvert) (0.7.1)\r\n",
      "Requirement already satisfied: nbformat>=5.7 in /Users/nikolaus/Documents/Uni/TU/Machine Learning/1_dataset_description/venv/lib/python3.10/site-packages (from nbconvert) (5.9.2)\r\n",
      "Requirement already satisfied: beautifulsoup4 in /Users/nikolaus/Documents/Uni/TU/Machine Learning/1_dataset_description/venv/lib/python3.10/site-packages (from nbconvert) (4.12.2)\r\n",
      "Requirement already satisfied: markupsafe>=2.0 in /Users/nikolaus/Documents/Uni/TU/Machine Learning/1_dataset_description/venv/lib/python3.10/site-packages (from nbconvert) (2.1.3)\r\n",
      "Requirement already satisfied: packaging in /Users/nikolaus/Documents/Uni/TU/Machine Learning/1_dataset_description/venv/lib/python3.10/site-packages (from nbconvert) (23.2)\r\n",
      "Requirement already satisfied: nbclient>=0.5.0 in /Users/nikolaus/Documents/Uni/TU/Machine Learning/1_dataset_description/venv/lib/python3.10/site-packages (from nbconvert) (0.8.0)\r\n",
      "Requirement already satisfied: pandocfilters>=1.4.1 in /Users/nikolaus/Documents/Uni/TU/Machine Learning/1_dataset_description/venv/lib/python3.10/site-packages (from nbconvert) (1.5.0)\r\n",
      "Requirement already satisfied: bleach!=5.0.0 in /Users/nikolaus/Documents/Uni/TU/Machine Learning/1_dataset_description/venv/lib/python3.10/site-packages (from nbconvert) (6.1.0)\r\n",
      "Requirement already satisfied: tinycss2 in /Users/nikolaus/Documents/Uni/TU/Machine Learning/1_dataset_description/venv/lib/python3.10/site-packages (from nbconvert) (1.2.1)\r\n",
      "Requirement already satisfied: webencodings in /Users/nikolaus/Documents/Uni/TU/Machine Learning/1_dataset_description/venv/lib/python3.10/site-packages (from bleach!=5.0.0->nbconvert) (0.5.1)\r\n",
      "Requirement already satisfied: six>=1.9.0 in /Users/nikolaus/Documents/Uni/TU/Machine Learning/1_dataset_description/venv/lib/python3.10/site-packages (from bleach!=5.0.0->nbconvert) (1.16.0)\r\n",
      "Requirement already satisfied: platformdirs>=2.5 in /Users/nikolaus/Documents/Uni/TU/Machine Learning/1_dataset_description/venv/lib/python3.10/site-packages (from jupyter-core>=4.7->nbconvert) (3.11.0)\r\n",
      "Requirement already satisfied: jupyter-client>=6.1.12 in /Users/nikolaus/Documents/Uni/TU/Machine Learning/1_dataset_description/venv/lib/python3.10/site-packages (from nbclient>=0.5.0->nbconvert) (8.4.0)\r\n",
      "Requirement already satisfied: fastjsonschema in /Users/nikolaus/Documents/Uni/TU/Machine Learning/1_dataset_description/venv/lib/python3.10/site-packages (from nbformat>=5.7->nbconvert) (2.18.1)\r\n",
      "Requirement already satisfied: jsonschema>=2.6 in /Users/nikolaus/Documents/Uni/TU/Machine Learning/1_dataset_description/venv/lib/python3.10/site-packages (from nbformat>=5.7->nbconvert) (4.19.1)\r\n",
      "Requirement already satisfied: soupsieve>1.2 in /Users/nikolaus/Documents/Uni/TU/Machine Learning/1_dataset_description/venv/lib/python3.10/site-packages (from beautifulsoup4->nbconvert) (2.5)\r\n",
      "Requirement already satisfied: rpds-py>=0.7.1 in /Users/nikolaus/Documents/Uni/TU/Machine Learning/1_dataset_description/venv/lib/python3.10/site-packages (from jsonschema>=2.6->nbformat>=5.7->nbconvert) (0.10.6)\r\n",
      "Requirement already satisfied: jsonschema-specifications>=2023.03.6 in /Users/nikolaus/Documents/Uni/TU/Machine Learning/1_dataset_description/venv/lib/python3.10/site-packages (from jsonschema>=2.6->nbformat>=5.7->nbconvert) (2023.7.1)\r\n",
      "Requirement already satisfied: attrs>=22.2.0 in /Users/nikolaus/Documents/Uni/TU/Machine Learning/1_dataset_description/venv/lib/python3.10/site-packages (from jsonschema>=2.6->nbformat>=5.7->nbconvert) (23.1.0)\r\n",
      "Requirement already satisfied: referencing>=0.28.4 in /Users/nikolaus/Documents/Uni/TU/Machine Learning/1_dataset_description/venv/lib/python3.10/site-packages (from jsonschema>=2.6->nbformat>=5.7->nbconvert) (0.30.2)\r\n",
      "Requirement already satisfied: python-dateutil>=2.8.2 in /Users/nikolaus/Documents/Uni/TU/Machine Learning/1_dataset_description/venv/lib/python3.10/site-packages (from jupyter-client>=6.1.12->nbclient>=0.5.0->nbconvert) (2.8.2)\r\n",
      "Requirement already satisfied: pyzmq>=23.0 in /Users/nikolaus/Documents/Uni/TU/Machine Learning/1_dataset_description/venv/lib/python3.10/site-packages (from jupyter-client>=6.1.12->nbclient>=0.5.0->nbconvert) (25.1.1)\r\n",
      "Requirement already satisfied: tornado>=6.2 in /Users/nikolaus/Documents/Uni/TU/Machine Learning/1_dataset_description/venv/lib/python3.10/site-packages (from jupyter-client>=6.1.12->nbclient>=0.5.0->nbconvert) (6.3.3)\r\n",
      "\u001B[33mWARNING: You are using pip version 21.3.1; however, version 24.0 is available.\r\n",
      "You should consider upgrading via the '/Users/nikolaus/Documents/Uni/TU/Machine Learning/1_dataset_description/venv/bin/python -m pip install --upgrade pip' command.\u001B[0m\r\n",
      "Running `brew update --auto-update`...\r\n",
      "\u001B[34m==>\u001B[0m \u001B[1mAuto-updated Homebrew!\u001B[0m\r\n",
      "Updated 5 taps (homebrew/cask-versions, homebrew/services, gcenx/wine, homebrew/core and homebrew/cask).\r\n",
      "\u001B[34m==>\u001B[0m \u001B[1mNew Formulae\u001B[0m\r\n",
      "asmfmt                     kin                        rawdog\r\n",
      "autobrr                    kiota                      robin-map\r\n",
      "c3c                        ktfmt                      rsyncy\r\n",
      "cargo-llvm-cov             kubetui                    ruby@3.2\r\n",
      "cekit                      libnsbmp                   scnlib\r\n",
      "csvlens                    libnsgif                   seam\r\n",
      "deadfinder                 libspelling                senpai\r\n",
      "doltgres                   libwapcaplet               steamguard-cli\r\n",
      "dotslash                   limesuite                  sugarjar\r\n",
      "dotter                     magic-wormhole.rs          sui\r\n",
      "flowpipe                   moon                       terrapin-scanner\r\n",
      "g-ls                       mtm                        texi2mdoc\r\n",
      "git-grab                   ncmdump                    tfautomv\r\n",
      "go@1.21                    netaddr                    tomlplusplus\r\n",
      "greenmask                  netsurf-buildsystem        urlscan\r\n",
      "halp                       noseyparker                uv\r\n",
      "helm-docs                  nowplaying-cli             veilid\r\n",
      "helm-ls                    openjph                    vulkan-volk\r\n",
      "hopscotch-map              pawk                       wasmedge\r\n",
      "icloudpd                   pivit                      xcode-build-server\r\n",
      "ignite                     proto                      zigmod\r\n",
      "jot                        rathole                    zipkin\r\n",
      "k8sgpt                     rattler-build\r\n",
      "\u001B[34m==>\u001B[0m \u001B[1mNew Casks\u001B[0m\r\n",
      "aqua                       ia-markdown-dictionary     openthesaurus-deutsch\r\n",
      "beyond-compare-beta        ia-presenter               pile\r\n",
      "bitbox                     imazing-profile-editor     prettyclean\r\n",
      "blockstream-green          insomnium                  qdirstat\r\n",
      "bugdom2                    intellij-idea-eap          roam\r\n",
      "cleanclip                  jamie                      sakura\r\n",
      "cleanupbuddy               jyutping                   salt\r\n",
      "creality-print             keyboard-cowboy            shadow-bot\r\n",
      "domzilla-caffeine          lightburn                  streammusic\r\n",
      "easydevo                   lunarbar                   taccy\r\n",
      "egovframedev               lw-scanner                 theiaide\r\n",
      "elecom-mouse-util          lyricsfinder               ttu-base-suite\r\n",
      "emby                       markedit                   upscayl\r\n",
      "freeshow                   mumuplayer                 wakatime\r\n",
      "game-porting-toolkit       nightshade                 wineskin-devel\r\n",
      "geekbench-ml               nrfutil                    xact\r\n",
      "gitbutler                  ollama                     zed-preview\r\n",
      "hancom-docs                ollamac                    znote\r\n",
      "heynote                    opencat\r\n",
      "\r\n",
      "You have \u001B[1m70\u001B[0m outdated formulae and \u001B[1m1\u001B[0m outdated cask installed.\r\n",
      "\r\n",
      "\u001B[33mWarning:\u001B[0m Cask homebrew/cask/pandoc was renamed to homebrew/core/pandoc.\r\n",
      "pandoc 3.1.10 is already installed but outdated (so it will be upgraded).\r\n",
      "\u001B[34m==>\u001B[0m \u001B[1mDownloading https://ghcr.io/v2/homebrew/core/pandoc/manifests/3.1.12.1\u001B[0m\r\n",
      "######################################################################### 100.0%\r\n",
      "\u001B[32m==>\u001B[0m \u001B[1mFetching \u001B[32mpandoc\u001B[39m\u001B[0m\r\n",
      "\u001B[34m==>\u001B[0m \u001B[1mDownloading https://ghcr.io/v2/homebrew/core/pandoc/blobs/sha256:f0158266a50\u001B[0m\r\n",
      "######################################################################### 100.0%\r\n",
      "\u001B[32m==>\u001B[0m \u001B[1mUpgrading \u001B[32mpandoc\u001B[39m\r\n",
      "  3.1.10 -> 3.1.12.1 \r\n",
      "\u001B[0m\r\n",
      "\u001B[34m==>\u001B[0m \u001B[1mPouring pandoc--3.1.12.1.monterey.bottle.tar.gz\u001B[0m\r\n",
      "\u001B[33mWarning:\u001B[0m Cask homebrew/cask/pandoc was renamed to homebrew/core/pandoc.\r\n",
      "\u001B[34m==>\u001B[0m \u001B[1mCaveats\u001B[0m\r\n",
      "Bash completion has been installed to:\r\n",
      "  /usr/local/etc/bash_completion.d\r\n",
      "\u001B[34m==>\u001B[0m \u001B[1mSummary\u001B[0m\r\n",
      "🍺  /usr/local/Cellar/pandoc/3.1.12.1: 10 files, 164.3MB\r\n",
      "\u001B[34m==>\u001B[0m \u001B[1mRunning `brew cleanup pandoc`...\u001B[0m\r\n",
      "Disable this behaviour by setting HOMEBREW_NO_INSTALL_CLEANUP.\r\n",
      "Hide these hints with HOMEBREW_NO_ENV_HINTS (see `man brew`).\r\n",
      "Removing: /usr/local/Cellar/pandoc/3.1.10... (10 files, 162.1MB)\r\n",
      "Removing: /Users/nikolaus/Library/Caches/Homebrew/pandoc--3.1.10... (30.5MB)\r\n",
      "\u001B[32m==>\u001B[0m \u001B[1m`brew cleanup` has not been run in the last 30 days, running now...\u001B[0m\r\n",
      "Disable this behaviour by setting HOMEBREW_NO_INSTALL_CLEANUP.\r\n",
      "Hide these hints with HOMEBREW_NO_ENV_HINTS (see `man brew`).\r\n",
      "Removing: /usr/local/Cellar/apr/1.7.0_3... (59 files, 1.4MB)\r\n",
      "Removing: /usr/local/Cellar/brotli/1.0.9... (25 files, 2.3MB)\r\n",
      "Removing: /usr/local/Cellar/freetype/2.12.1... (67 files, 2.3MB)\r\n",
      "Removing: /usr/local/Cellar/gmp/6.2.1_1... (21 files, 3.3MB)\r\n",
      "Removing: /usr/local/Cellar/highway/1.0.2... (61 files, 3.5MB)\r\n",
      "Removing: /usr/local/Cellar/icu4c/71.1... (262 files, 76.2MB)\r\n",
      "Removing: /usr/local/Cellar/icu4c/72.1... (263 files, 77.9MB)\r\n",
      "Removing: /usr/local/Cellar/krb5/1.20.1... (162 files, 5.1MB)\r\n",
      "Removing: /usr/local/Cellar/libssh2/1.10.0... (184 files, 999.8KB)\r\n",
      "Removing: /usr/local/Cellar/libtiff/4.4.0_1... (249 files, 4.5MB)\r\n",
      "Removing: /usr/local/Cellar/libunistring/1.0... (56 files, 5MB)\r\n",
      "Removing: /usr/local/Cellar/libzip/1.9.2... (145 files, 778.5KB)\r\n",
      "Removing: /usr/local/Cellar/oniguruma/6.9.8... (14 files, 1.4MB)\r\n",
      "Removing: /usr/local/Cellar/pcre2/10.40... (230 files, 6.4MB)\r\n",
      "Removing: /usr/local/Cellar/unixodbc/2.3.11... (48 files, 2.1MB)\r\n",
      "Removing: /usr/local/Cellar/webp/1.3.0... (47 files, 2.5MB)\r\n",
      "Removing: /usr/local/Cellar/xz/5.4.0... (95 files, 1.6MB)\r\n",
      "Removing: /usr/local/Cellar/xz/5.4.1... (95 files, 1.6MB)\r\n",
      "Removing: /usr/local/Cellar/zstd/1.5.2... (31 files, 2.4MB)\r\n",
      "Removing: /Users/nikolaus/Library/Logs/Homebrew/libtiff... (64B)\r\n",
      "Removing: /Users/nikolaus/Library/Logs/Homebrew/libtool... (64B)\r\n",
      "Removing: /Users/nikolaus/Library/Logs/Homebrew/gmp... (64B)\r\n",
      "Removing: /Users/nikolaus/Library/Logs/Homebrew/xorgproto... (64B)\r\n",
      "Removing: /Users/nikolaus/Library/Logs/Homebrew/libidn2... (64B)\r\n",
      "Removing: /Users/nikolaus/Library/Logs/Homebrew/libxau... (64B)\r\n",
      "Removing: /Users/nikolaus/Library/Logs/Homebrew/little-cms2... (64B)\r\n",
      "Removing: /Users/nikolaus/Library/Logs/Homebrew/libpng... (64B)\r\n",
      "Removing: /Users/nikolaus/Library/Logs/Homebrew/pixman... (64B)\r\n",
      "Removing: /Users/nikolaus/Library/Logs/Homebrew/libxdmcp... (64B)\r\n",
      "Removing: /Users/nikolaus/Library/Logs/Homebrew/libuv... (64B)\r\n",
      "Removing: /Users/nikolaus/Library/Logs/Homebrew/freetype... (64B)\r\n",
      "Removing: /Users/nikolaus/Library/Logs/Homebrew/argon2... (64B)\r\n",
      "Removing: /Users/nikolaus/Library/Logs/Homebrew/rtmpdump... (64B)\r\n",
      "Removing: /Users/nikolaus/Library/Logs/Homebrew/imath... (64B)\r\n",
      "Removing: /Users/nikolaus/Library/Logs/Homebrew/libavif... (64B)\r\n",
      "Removing: /Users/nikolaus/Library/Logs/Homebrew/libunistring... (64B)\r\n",
      "Removing: /Users/nikolaus/Library/Logs/Homebrew/pango... (64B)\r\n",
      "Removing: /Users/nikolaus/Library/Logs/Homebrew/openjpeg... (64B)\r\n",
      "Removing: /Users/nikolaus/Library/Logs/Homebrew/highway... (64B)\r\n",
      "Removing: /Users/nikolaus/Library/Logs/Homebrew/apr-util... (64B)\r\n",
      "Removing: /Users/nikolaus/Library/Logs/Homebrew/sdl_image... (64B)\r\n",
      "Removing: /Users/nikolaus/Library/Logs/Homebrew/icu4c... (64B)\r\n",
      "Removing: /Users/nikolaus/Library/Logs/Homebrew/harfbuzz... (64B)\r\n",
      "Removing: /Users/nikolaus/Library/Logs/Homebrew/duck... (64B)\r\n",
      "Removing: /Users/nikolaus/Library/Logs/Homebrew/glib... (64B)\r\n",
      "Removing: /Users/nikolaus/Library/Logs/Homebrew/rust... (64B)\r\n",
      "Removing: /Users/nikolaus/Library/Logs/Homebrew/libxcb... (64B)\r\n",
      "Removing: /Users/nikolaus/Library/Logs/Homebrew/aom... (64B)\r\n",
      "Removing: /Users/nikolaus/Library/Logs/Homebrew/lz4... (64B)\r\n",
      "Removing: /Users/nikolaus/Library/Logs/Homebrew/graphite2... (64B)\r\n",
      "Removing: /Users/nikolaus/Library/Logs/Homebrew/libarchive... (64B)\r\n",
      "Removing: /Users/nikolaus/Library/Logs/Homebrew/tesseract... (64B)\r\n",
      "Removing: /Users/nikolaus/Library/Logs/Homebrew/cairo... (64B)\r\n",
      "Removing: /Users/nikolaus/Library/Logs/Homebrew/webp... (64B)\r\n",
      "Removing: /Users/nikolaus/Library/Logs/Homebrew/sqlite... (64B)\r\n",
      "Removing: /Users/nikolaus/Library/Logs/Homebrew/c-ares... (64B)\r\n",
      "Removing: /Users/nikolaus/Library/Logs/Homebrew/fribidi... (64B)\r\n",
      "Removing: /Users/nikolaus/Library/Logs/Homebrew/php... (12 files, 4.7KB)\r\n",
      "Removing: /Users/nikolaus/Library/Logs/Homebrew/sdl_ttf... (64B)\r\n",
      "Removing: /Users/nikolaus/Library/Logs/Homebrew/xz... (64B)\r\n",
      "Removing: /Users/nikolaus/Library/Logs/Homebrew/unixodbc... (64B)\r\n",
      "Removing: /Users/nikolaus/Library/Logs/Homebrew/libnghttp2... (64B)\r\n",
      "Removing: /Users/nikolaus/Library/Logs/Homebrew/openexr... (64B)\r\n",
      "Removing: /Users/nikolaus/Library/Logs/Homebrew/fontconfig... (1.8KB)\r\n",
      "Removing: /Users/nikolaus/Library/Logs/Homebrew/openjdk... (64B)\r\n",
      "Removing: /Users/nikolaus/Library/Logs/Homebrew/curl... (64B)\r\n",
      "Removing: /Users/nikolaus/Library/Logs/Homebrew/krb5... (64B)\r\n",
      "Removing: /Users/nikolaus/Library/Logs/Homebrew/libxrender... (64B)\r\n",
      "Removing: /Users/nikolaus/Library/Logs/Homebrew/libb2... (64B)\r\n",
      "Removing: /Users/nikolaus/Library/Logs/Homebrew/freetds... (64B)\r\n",
      "Removing: /Users/nikolaus/Library/Logs/Homebrew/libvmaf... (64B)\r\n",
      "Removing: /Users/nikolaus/Library/Logs/Homebrew/openssl@3... (64B)\r\n",
      "Removing: /Users/nikolaus/Library/Logs/Homebrew/ca-certificates... (64B)\r\n",
      "Removing: /Users/nikolaus/Library/Logs/Homebrew/zstd... (64B)\r\n",
      "Removing: /Users/nikolaus/Library/Logs/Homebrew/mercurial... (64B)\r\n",
      "Removing: /Users/nikolaus/Library/Logs/Homebrew/libsodium... (64B)\r\n",
      "Removing: /Users/nikolaus/Library/Logs/Homebrew/apr... (64B)\r\n",
      "Removing: /Users/nikolaus/Library/Logs/Homebrew/autoconf... (64B)\r\n",
      "Removing: /Users/nikolaus/Library/Logs/Homebrew/libpq... (64B)\r\n",
      "Removing: /Users/nikolaus/Library/Logs/Homebrew/aspell... (64B)\r\n",
      "Removing: /Users/nikolaus/Library/Logs/Homebrew/libxext... (64B)\r\n",
      "Removing: /Users/nikolaus/Library/Logs/Homebrew/tidy-html5... (64B)\r\n",
      "Removing: /Users/nikolaus/Library/Logs/Homebrew/m4... (64B)\r\n",
      "Removing: /Users/nikolaus/Library/Logs/Homebrew/oniguruma... (64B)\r\n",
      "Removing: /Users/nikolaus/Library/Logs/Homebrew/gd... (64B)\r\n",
      "Removing: /Users/nikolaus/Library/Logs/Homebrew/pcre2... (64B)\r\n",
      "Removing: /Users/nikolaus/Library/Logs/Homebrew/leptonica... (64B)\r\n",
      "Removing: /Users/nikolaus/Library/Logs/Homebrew/jpeg-xl... (64B)\r\n",
      "Removing: /Users/nikolaus/Library/Logs/Homebrew/python@3.10... (2 files, 2.5KB)\r\n",
      "Removing: /Users/nikolaus/Library/Logs/Homebrew/node... (64B)\r\n",
      "Removing: /Users/nikolaus/Library/Logs/Homebrew/libzip... (64B)\r\n",
      "Removing: /Users/nikolaus/Library/Logs/Homebrew/openldap... (64B)\r\n",
      "Removing: /Users/nikolaus/Library/Logs/Homebrew/sdl2... (64B)\r\n",
      "Removing: /Users/nikolaus/Library/Logs/Homebrew/python@3.11... (2 files, 2.5KB)\r\n",
      "Removing: /Users/nikolaus/Library/Logs/Homebrew/libx11... (64B)\r\n",
      "Removing: /Users/nikolaus/Library/Logs/Homebrew/git... (64B)\r\n",
      "Removing: /Users/nikolaus/Library/Logs/Homebrew/lzo... (64B)\r\n",
      "Removing: /Users/nikolaus/Library/Logs/Homebrew/python@3.9... (2 files, 3.2KB)\r\n",
      "Removing: /Users/nikolaus/Library/Logs/Homebrew/jpeg-turbo... (64B)\r\n",
      "Removing: /Users/nikolaus/Library/Logs/Homebrew/sdl12-compat... (64B)\r\n",
      "Removing: /usr/local/lib/python3.9/site-packages/__pycache__/ffmpy.cpython-39.pyc... (8.4KB)\r\n",
      "Removing: /usr/local/lib/python3.9/site-packages/__pycache__/inflection.cpython-39.pyc... (10.7KB)\r\n",
      "Removing: /usr/local/lib/python3.9/site-packages/__pycache__/isympy.cpython-39.pyc... (9.2KB)\r\n",
      "Removing: /usr/local/lib/python3.9/site-packages/__pycache__/socks.cpython-39.pyc... (20.9KB)\r\n",
      "Removing: /usr/local/lib/python3.9/site-packages/__pycache__/sockshandler.cpython-39.pyc... (4.1KB)\r\n",
      "Removing: /usr/local/lib/python3.9/site-packages/__pycache__/zipp.cpython-39.pyc... (10KB)\r\n",
      "Pruned 0 symbolic links and 12 directories from /usr/local\r\n",
      "Requirement already satisfied: seaborn in /Users/nikolaus/Documents/Uni/TU/Machine Learning/1_dataset_description/venv/lib/python3.10/site-packages (0.13.0)\r\n",
      "Requirement already satisfied: pandas>=1.2 in /Users/nikolaus/Documents/Uni/TU/Machine Learning/1_dataset_description/venv/lib/python3.10/site-packages (from seaborn) (2.1.1)\r\n",
      "Requirement already satisfied: matplotlib!=3.6.1,>=3.3 in /Users/nikolaus/Documents/Uni/TU/Machine Learning/1_dataset_description/venv/lib/python3.10/site-packages (from seaborn) (3.8.0)\r\n",
      "Requirement already satisfied: numpy!=1.24.0,>=1.20 in /Users/nikolaus/Documents/Uni/TU/Machine Learning/1_dataset_description/venv/lib/python3.10/site-packages (from seaborn) (1.26.1)\r\n",
      "Requirement already satisfied: contourpy>=1.0.1 in /Users/nikolaus/Documents/Uni/TU/Machine Learning/1_dataset_description/venv/lib/python3.10/site-packages (from matplotlib!=3.6.1,>=3.3->seaborn) (1.1.1)\r\n",
      "Requirement already satisfied: python-dateutil>=2.7 in /Users/nikolaus/Documents/Uni/TU/Machine Learning/1_dataset_description/venv/lib/python3.10/site-packages (from matplotlib!=3.6.1,>=3.3->seaborn) (2.8.2)\r\n",
      "Requirement already satisfied: cycler>=0.10 in /Users/nikolaus/Documents/Uni/TU/Machine Learning/1_dataset_description/venv/lib/python3.10/site-packages (from matplotlib!=3.6.1,>=3.3->seaborn) (0.12.1)\r\n",
      "Requirement already satisfied: pillow>=6.2.0 in /Users/nikolaus/Documents/Uni/TU/Machine Learning/1_dataset_description/venv/lib/python3.10/site-packages (from matplotlib!=3.6.1,>=3.3->seaborn) (10.1.0)\r\n",
      "Requirement already satisfied: pyparsing>=2.3.1 in /Users/nikolaus/Documents/Uni/TU/Machine Learning/1_dataset_description/venv/lib/python3.10/site-packages (from matplotlib!=3.6.1,>=3.3->seaborn) (3.1.1)\r\n",
      "Requirement already satisfied: packaging>=20.0 in /Users/nikolaus/Documents/Uni/TU/Machine Learning/1_dataset_description/venv/lib/python3.10/site-packages (from matplotlib!=3.6.1,>=3.3->seaborn) (23.2)\r\n",
      "Requirement already satisfied: kiwisolver>=1.0.1 in /Users/nikolaus/Documents/Uni/TU/Machine Learning/1_dataset_description/venv/lib/python3.10/site-packages (from matplotlib!=3.6.1,>=3.3->seaborn) (1.4.5)\r\n",
      "Requirement already satisfied: fonttools>=4.22.0 in /Users/nikolaus/Documents/Uni/TU/Machine Learning/1_dataset_description/venv/lib/python3.10/site-packages (from matplotlib!=3.6.1,>=3.3->seaborn) (4.43.1)\r\n",
      "Requirement already satisfied: tzdata>=2022.1 in /Users/nikolaus/Documents/Uni/TU/Machine Learning/1_dataset_description/venv/lib/python3.10/site-packages (from pandas>=1.2->seaborn) (2023.3)\r\n",
      "Requirement already satisfied: pytz>=2020.1 in /Users/nikolaus/Documents/Uni/TU/Machine Learning/1_dataset_description/venv/lib/python3.10/site-packages (from pandas>=1.2->seaborn) (2023.3.post1)\r\n",
      "Requirement already satisfied: six>=1.5 in /Users/nikolaus/Documents/Uni/TU/Machine Learning/1_dataset_description/venv/lib/python3.10/site-packages (from python-dateutil>=2.7->matplotlib!=3.6.1,>=3.3->seaborn) (1.16.0)\r\n",
      "\u001B[33mWARNING: You are using pip version 21.3.1; however, version 24.0 is available.\r\n",
      "You should consider upgrading via the '/Users/nikolaus/Documents/Uni/TU/Machine Learning/1_dataset_description/venv/bin/python -m pip install --upgrade pip' command.\u001B[0m\r\n"
     ]
    }
   ],
   "source": [
    "! pip install pandas\n",
    "! pip install openml\n",
    "! pip install nbconvert\n",
    "! brew install pandoc\n",
    "! pip install seaborn\n",
    "! pip install sklearn"
   ]
  },
  {
   "cell_type": "code",
   "execution_count": 58,
   "id": "daff193d-658d-4fc7-ba7b-28974434449d",
   "metadata": {},
   "outputs": [],
   "source": [
    "import pandas as pd\n",
    "import seaborn as sns\n",
    "import openml\n",
    "import numpy as np\n",
    "\n",
    "\n",
    "import matplotlib.pyplot as plt\n",
    "import pickle\n",
    "\n",
    "from sklearn.model_selection import train_test_split\n",
    "from sklearn.preprocessing import MinMaxScaler\n",
    "from sklearn.impute import KNNImputer\n",
    "from sklearn.pipeline import Pipeline"
   ]
  },
  {
   "cell_type": "code",
   "execution_count": 59,
   "id": "a0d67c46-a96f-40ac-aa7b-7dc74884916c",
   "metadata": {},
   "outputs": [],
   "source": [
    "\"\"\"\n",
    "Downloading OpenML data\n",
    "Parameters:\n",
    "dataset_id: openml-dataset-id\n",
    "\n",
    "x - An array/dataframe where each row represents one example with the corresponding feature values.\n",
    "y - the classes for each example (target feature)\n",
    "categorical_indicator - an array that indicates which feature is categorical\n",
    "attribute_names - the names of the features for the examples (X) and\n",
    "\"\"\"\n",
    "def get_openml_data(dataset_id: int):\n",
    "    data_source = openml.datasets.get_dataset(dataset_id=dataset_id)\n",
    "    return data_source.get_data(\n",
    "        dataset_format=\"dataframe\", target=data_source.default_target_attribute\n",
    "    )"
   ]
  },
  {
   "cell_type": "code",
   "execution_count": 60,
   "id": "a8da3139-d9ea-4ee9-b3a4-201957d3493d",
   "metadata": {},
   "outputs": [],
   "source": [
    "\"\"\"\n",
    "One-hot-encoding data\n",
    "\n",
    "Parameters:\n",
    "\n",
    "data: pd.DataFrame\n",
    "column: str\n",
    "delete: whether the original column should be deleted\n",
    "\n",
    "Takes all unique values of column in data and creates a new column for each\n",
    "with value 1 if the column is the current unique value and 0 if it isn't\n",
    "\n",
    "Return the dataframe\n",
    "\"\"\"\n",
    "def one_hot(data: pd.DataFrame, column: str, prefix=\"\", suffix=\"\", delete=False) -> pd.DataFrame:\n",
    "    for value in sorted(data[column].unique().tolist()):\n",
    "        data[prefix+value+suffix] = data[column].apply(lambda x: 1 if x==value else 0)\n",
    "    if delete: data = data.drop(column, axis=1)\n",
    "    return data"
   ]
  },
  {
   "cell_type": "code",
   "execution_count": 61,
   "outputs": [],
   "source": [
    "\"\"\"\n",
    "sklearn preprocessing pipelines\n",
    "\"\"\"\n",
    "# general preprocessor\n",
    "# with MinMaxScaler\n",
    "preprocessor = Pipeline(\n",
    "   steps=[\n",
    "       (\"imputation\", KNNImputer(n_neighbors=2, weights=\"uniform\")),\n",
    "       (\"scaler\", MinMaxScaler())\n",
    "    ]\n",
    ")"
   ],
   "metadata": {
    "collapsed": false
   }
  },
  {
   "cell_type": "code",
   "execution_count": 62,
   "outputs": [],
   "source": [
    "\"\"\"\n",
    "shuffling two objects in the same way\n",
    "input: two pandas objects whose orders correspond\n",
    "output: the input objects, but with shuffled order, but their orders still correspond\n",
    "\"\"\"\n",
    "def shuffle(*objects):\n",
    "    np.random.seed(42)\n",
    "    new_index = np.random.permutation(objects[0].index)\n",
    "    objects = [obj.reindex(new_index) for obj in objects]\n",
    "    if len(objects) == 1: return objects[0]\n",
    "    return objects\n"
   ],
   "metadata": {
    "collapsed": false
   }
  },
  {
   "cell_type": "code",
   "execution_count": 63,
   "id": "406dca97-8e32-4351-bdc3-f0682b9e968b",
   "metadata": {},
   "outputs": [],
   "source": [
    "\"\"\"\n",
    "Min-Max-Scaling\n",
    "\n",
    "Parameters\n",
    "vals: numpy array, numpy Series or pandas Series\n",
    "min, max: minimum and maximum values to scale the values between\n",
    "\"\"\"\n",
    "\n",
    "def scale(vals, min:int, max:int):\n",
    "    diff = max - min\n",
    "    return (vals-min)/diff\n",
    "\n",
    "def unscale(vals, min:int, max:int):\n",
    "    diff = max - min\n",
    "    return vals * diff + min\n"
   ]
  },
  {
   "cell_type": "markdown",
   "id": "96d6d819-93aa-4c76-b8c8-c35ee07d4e0e",
   "metadata": {},
   "source": [
    "# Dataset 1: _Biomed_\n",
    "\n",
    "ID: 481\n",
    "https://www.openml.org/api/v1/json/data/481\n",
    "\n",
    "\n",
    "February 23, 1982\n",
    "\n",
    "The 1982 annual meetings of the American Statistical Association (ASA) will be held August 16-19, 1982 in Cincinnati. At that meeting, the ASA Committee on Statistical Graphics plans to sponsor an \"Exposition of Statistical Graphics Technology.\" The purpose of this activity is to more fully inform the ASA membership about the capabilities and uses of computer graphcis in statistical work. This letter is to invite you to participate in the Exposition.\n",
    "\n",
    "\n",
    "Attached is a set of biomedical data containing 209 observations (134 for \"normals\" and 75 for \"carriers\"). Each vendor of provider of statistical graphics software participating in the Exposition is to analyze these data using their software and to prepare tabular, graphical and text output illustrating the use of graphics in these analyses and summarizing their conclusions. The tabular and graphical materials must be direct computer output from the statistical graphics software; the textual descriptions and summaries need not be. The total display space available to each participant at the meeting will be a standard poster- board (approximately 4' x 2 1/2'). All entries will be displayed in one location at the meetings, together with brief written commentary by the committee summarizing the results of this activity.\n",
    "\n",
    "## Reference\n",
    "\n",
    "Exposition of Statistical Graphics Technology, L. H. Cox, M. M. Johnson, K. Kafadar, ASA Proc Stat. Comp Section, 1982, pp 55-56. Enclosures\n",
    "\n",
    "## THE DATA\n",
    "\n",
    "The following data arose in a study to develop screening methods to identify carriers of a rare genetic disorder. Four measurements m1, m2, m3, m4 were made on blood samples. One of these, m1, has been used before.\n",
    "\n",
    "\n",
    "The disease is Duchenne muscular dystrophy. Measurements are:\n",
    "M1- serum creatine kinase.\n",
    "M2- hemopexin.\n",
    "M3- pyruvate kinase.\n",
    "M4- lactate dehydrogenase.\n",
    "\n",
    "Because the disease is rare, there are only a few carriers of the disease from whom data are available. The data come in two files, one for normals and one for carriers of the disease. A description of the files is provided. The data have been stripped of the names and other identifiers. Otherwise the data are as received by the analyst.\n",
    "\n",
    "\n",
    "## PURPOSE OF THE ANALYSIS\n",
    "\n",
    "The purpose of the analysis is to develop a screening procedure to detect carriers and to describe its effectiveness. Experts in the field have noted that young people tend to have higher measurements. The laboratory which prepared the measurements is worried that there may be a systematic drift over time in their measurement process. These effects should be considered in the analysis. Can graphical displays show the differences between the distributions of carriers and normals?\n",
    "\n",
    "\n",
    "## FILE DESCRIPTION\n",
    "### Column Content\n",
    "\n",
    "1 Observation number (sequence number per patient) Note that there are several samples per patient for some patients.\n",
    "2-8 Blank 9-12 Hospital identification number for blood sample\n",
    "13-18 Blank\n",
    "19-20 Age of patient\n",
    "21-26 Blank\n",
    "27-32 Date that blood sample was taken (mmddyy) Note that all day entries are 00.\n",
    "33-39 Blank 40-43 ml (measurement 1) sss.s\n",
    "44-50 Blank\n",
    "51-54 m2 (measurement 2) xxx.x Eight missing data points.\n",
    "55-61 Blank\n",
    "62-65 m3 (measurement 3) xxx.x\n",
    "66-72 Blank\n",
    "73-75 m4 (measurement 4) xxx Seven missing data points.\n",
    "\n"
   ]
  },
  {
   "cell_type": "markdown",
   "id": "ab14f674-7fa6-4a05-b3c2-dc3842855b7f",
   "metadata": {},
   "source": [
    "General description of the dataset."
   ]
  },
  {
   "cell_type": "code",
   "execution_count": 64,
   "id": "4ec4e057-df7d-47a9-9dc1-a101ae9232ef",
   "metadata": {},
   "outputs": [
    {
     "name": "stderr",
     "output_type": "stream",
     "text": [
      "/Users/nikolaus/Documents/Uni/TU/Machine Learning/1_dataset_description/venv/lib/python3.10/site-packages/openml/datasets/functions.py:438: FutureWarning: Starting from Version 0.15 `download_data`, `download_qualities`, and `download_features_meta_data` will all be ``False`` instead of ``True`` by default to enable lazy loading. To disable this message until version 0.15 explicitly set `download_data`, `download_qualities`, and `download_features_meta_data` to a bool while calling `get_dataset`.\n",
      "  warnings.warn(\n"
     ]
    }
   ],
   "source": [
    "x_biomed, y_biomed, categorical_biomed, attributes_biomed = get_openml_data(dataset_id=481)"
   ]
  },
  {
   "cell_type": "code",
   "execution_count": 65,
   "outputs": [
    {
     "data": {
      "text/plain": "    Observation_number  Hospital_identification_number_for_blood_sample  \\\n0                    1                                             1027   \n1                    1                                             1013   \n2                    1                                             1324   \n3                    2                                             1332   \n4                    1                                              966   \n..                 ...                                              ...   \n204                  1                                              942   \n205                  2                                             1024   \n206                  1                                              810   \n207                  2                                             1258   \n208                  3                                             1300   \n\n     Age_of_patient  Date_that_blood_sample_was_taken     ml     m2    m3  \\\n0                30                            100078  167.0   89.0  25.6   \n1                41                            100078  104.0   81.0  26.8   \n2                22                             80079   30.0  108.0   8.8   \n3                22                             80079   44.0  104.0  17.4   \n4                20                            100078   65.0   87.0  23.8   \n..              ...                               ...    ...    ...   ...   \n204              32                             40079   41.0   78.5  10.9   \n205              32                             60079   43.0   87.5   6.0   \n206              32                            100078   30.0   90.5  15.3   \n207              33                             70079   30.0   85.0  11.4   \n208              33                            100079   43.0   88.5  20.3   \n\n        m4  \n0    364.0  \n1    245.0  \n2    284.0  \n3    172.0  \n4    198.0  \n..     ...  \n204  191.0  \n205  136.0  \n206  136.0  \n207  176.0  \n208  175.0  \n\n[209 rows x 8 columns]",
      "text/html": "<div>\n<style scoped>\n    .dataframe tbody tr th:only-of-type {\n        vertical-align: middle;\n    }\n\n    .dataframe tbody tr th {\n        vertical-align: top;\n    }\n\n    .dataframe thead th {\n        text-align: right;\n    }\n</style>\n<table border=\"1\" class=\"dataframe\">\n  <thead>\n    <tr style=\"text-align: right;\">\n      <th></th>\n      <th>Observation_number</th>\n      <th>Hospital_identification_number_for_blood_sample</th>\n      <th>Age_of_patient</th>\n      <th>Date_that_blood_sample_was_taken</th>\n      <th>ml</th>\n      <th>m2</th>\n      <th>m3</th>\n      <th>m4</th>\n    </tr>\n  </thead>\n  <tbody>\n    <tr>\n      <th>0</th>\n      <td>1</td>\n      <td>1027</td>\n      <td>30</td>\n      <td>100078</td>\n      <td>167.0</td>\n      <td>89.0</td>\n      <td>25.6</td>\n      <td>364.0</td>\n    </tr>\n    <tr>\n      <th>1</th>\n      <td>1</td>\n      <td>1013</td>\n      <td>41</td>\n      <td>100078</td>\n      <td>104.0</td>\n      <td>81.0</td>\n      <td>26.8</td>\n      <td>245.0</td>\n    </tr>\n    <tr>\n      <th>2</th>\n      <td>1</td>\n      <td>1324</td>\n      <td>22</td>\n      <td>80079</td>\n      <td>30.0</td>\n      <td>108.0</td>\n      <td>8.8</td>\n      <td>284.0</td>\n    </tr>\n    <tr>\n      <th>3</th>\n      <td>2</td>\n      <td>1332</td>\n      <td>22</td>\n      <td>80079</td>\n      <td>44.0</td>\n      <td>104.0</td>\n      <td>17.4</td>\n      <td>172.0</td>\n    </tr>\n    <tr>\n      <th>4</th>\n      <td>1</td>\n      <td>966</td>\n      <td>20</td>\n      <td>100078</td>\n      <td>65.0</td>\n      <td>87.0</td>\n      <td>23.8</td>\n      <td>198.0</td>\n    </tr>\n    <tr>\n      <th>...</th>\n      <td>...</td>\n      <td>...</td>\n      <td>...</td>\n      <td>...</td>\n      <td>...</td>\n      <td>...</td>\n      <td>...</td>\n      <td>...</td>\n    </tr>\n    <tr>\n      <th>204</th>\n      <td>1</td>\n      <td>942</td>\n      <td>32</td>\n      <td>40079</td>\n      <td>41.0</td>\n      <td>78.5</td>\n      <td>10.9</td>\n      <td>191.0</td>\n    </tr>\n    <tr>\n      <th>205</th>\n      <td>2</td>\n      <td>1024</td>\n      <td>32</td>\n      <td>60079</td>\n      <td>43.0</td>\n      <td>87.5</td>\n      <td>6.0</td>\n      <td>136.0</td>\n    </tr>\n    <tr>\n      <th>206</th>\n      <td>1</td>\n      <td>810</td>\n      <td>32</td>\n      <td>100078</td>\n      <td>30.0</td>\n      <td>90.5</td>\n      <td>15.3</td>\n      <td>136.0</td>\n    </tr>\n    <tr>\n      <th>207</th>\n      <td>2</td>\n      <td>1258</td>\n      <td>33</td>\n      <td>70079</td>\n      <td>30.0</td>\n      <td>85.0</td>\n      <td>11.4</td>\n      <td>176.0</td>\n    </tr>\n    <tr>\n      <th>208</th>\n      <td>3</td>\n      <td>1300</td>\n      <td>33</td>\n      <td>100079</td>\n      <td>43.0</td>\n      <td>88.5</td>\n      <td>20.3</td>\n      <td>175.0</td>\n    </tr>\n  </tbody>\n</table>\n<p>209 rows × 8 columns</p>\n</div>"
     },
     "execution_count": 65,
     "metadata": {},
     "output_type": "execute_result"
    }
   ],
   "source": [
    "x_biomed"
   ],
   "metadata": {
    "collapsed": false
   }
  },
  {
   "cell_type": "code",
   "execution_count": 66,
   "id": "ae301a0e-eec5-4e64-859b-cf273336d1fc",
   "metadata": {},
   "outputs": [
    {
     "data": {
      "text/plain": "0      carrier\n1      carrier\n2      carrier\n3      carrier\n4      carrier\n        ...   \n204     normal\n205     normal\n206     normal\n207     normal\n208     normal\nName: class, Length: 209, dtype: category\nCategories (2, object): ['carrier' < 'normal']"
     },
     "execution_count": 66,
     "metadata": {},
     "output_type": "execute_result"
    }
   ],
   "source": [
    "y_biomed"
   ]
  },
  {
   "cell_type": "code",
   "execution_count": 67,
   "id": "7e0a5ba7-44fd-451d-90cf-39d994d5107b",
   "metadata": {},
   "outputs": [
    {
     "data": {
      "text/plain": "['Observation_number',\n 'Hospital_identification_number_for_blood_sample',\n 'Age_of_patient',\n 'Date_that_blood_sample_was_taken',\n 'ml',\n 'm2',\n 'm3',\n 'm4']"
     },
     "execution_count": 67,
     "metadata": {},
     "output_type": "execute_result"
    }
   ],
   "source": [
    "attributes_biomed"
   ]
  },
  {
   "cell_type": "code",
   "execution_count": 68,
   "outputs": [],
   "source": [
    "\n",
    "# drop unnecessary columns\n",
    "x_biomed = x_biomed.drop(\n",
    "    [\"Observation_number\", \"Hospital_identification_number_for_blood_sample\", \"Date_that_blood_sample_was_taken\"],\n",
    "    axis=1)\n",
    "# use 1-hot encoding\n",
    "y_biomed.replace({\"carrier\": 1, \"normal\": 0}, inplace=True)\n",
    "\n",
    "# shuffle the data\n",
    "x_biomed, y_biomed = shuffle(x_biomed, y_biomed)\n",
    "\n",
    "# data splitting\n",
    "# first join x and y back together\n",
    "x_biomed[\"y\"]=y_biomed\n",
    "# split the whole data into train and test set\n",
    "x_biomed_train, x_biomed_test = train_test_split(x_biomed, test_size=0.2, random_state=0, stratify=x_biomed.y)\n",
    "# separate the class labels to be their own series again\n",
    "y_biomed_train = x_biomed_train.pop(\"y\")\n",
    "y_biomed_test = x_biomed_test.pop(\"y\")\n",
    "\n",
    "\n",
    "# apply the preprocessing, to both the test and training set\n",
    "# in total 15 rows have NA values in either m2 or o4\n",
    "# apply preprocessing, to both the test and training set\n",
    "\n",
    "# with scaling\n",
    "x_biomed_train_preprocessed = pd.DataFrame(preprocessor.fit_transform(x_biomed_train))\n",
    "x_biomed_train_preprocessed.columns = x_biomed.columns[:-1]\n",
    "\n",
    "x_biomed_test_preprocessed = pd.DataFrame(preprocessor.fit_transform(x_biomed_test))\n",
    "x_biomed_test_preprocessed.columns = x_biomed.columns[:-1]\n",
    "\n"
   ],
   "metadata": {
    "collapsed": false
   }
  },
  {
   "cell_type": "code",
   "execution_count": 76,
   "outputs": [
    {
     "data": {
      "text/plain": "(167, 5)"
     },
     "execution_count": 76,
     "metadata": {},
     "output_type": "execute_result"
    }
   ],
   "source": [
    "x_biomed_train_preprocessed.shape"
   ],
   "metadata": {
    "collapsed": false
   }
  },
  {
   "cell_type": "code",
   "execution_count": 77,
   "outputs": [
    {
     "data": {
      "text/plain": "(167,)"
     },
     "execution_count": 77,
     "metadata": {},
     "output_type": "execute_result"
    }
   ],
   "source": [
    "y_biomed_train.shape"
   ],
   "metadata": {
    "collapsed": false
   }
  },
  {
   "cell_type": "code",
   "execution_count": 69,
   "id": "7a6dc2f1-ef75-4f13-8666-6af0fb63c01c",
   "metadata": {},
   "outputs": [],
   "source": [
    "with open('data/biomed/preprocessed_biomed_data.pickle', 'wb') as handle:\n",
    "        pickle.dump([x_biomed_train_preprocessed, y_biomed_train, x_biomed_test_preprocessed, y_biomed_test], handle)"
   ]
  },
  {
   "cell_type": "markdown",
   "id": "8c6c1d03-fdfc-4c33-9c6b-63ed91a511e8",
   "metadata": {},
   "source": [
    "# Dataset 2: _fertility_\n",
    "ID: 1473\n",
    "https://www.openml.org/api/v1/json/data/1473\n",
    "\n",
    "\n",
    "Author: David Gil, Jose Luis Girela\n",
    "\n",
    "Source: UCI\n",
    "\n",
    "Please cite: David Gil, Jose Luis Girela, Joaquin De Juan, M. Jose Gomez-Torres, and Magnus Johnsson. Predicting seminal quality with artificial intelligence methods. Expert Systems with Applications, 39(16):12564 - 12573, 2012\n",
    "\n",
    "Source:\n",
    "\n",
    "David Gil, dgil '@' dtic.ua.es, Lucentia Research Group, Department of Computer Technology, University of Alicante\n",
    "\n",
    "Jose Luis Girela, girela '@' ua.es, Department of Biotechnology, University of Alicante\n",
    "\n",
    "Attribute Information:\n",
    "\n",
    "- Season in which the analysis was performed. 1) winter, 2) spring, 3) Summer, 4) fall. (-1, -0.33, 0.33, 1) \n",
    "- Age at the time of analysis. 18-36 (0, 1) \n",
    "- Childish diseases (ie , chicken pox, measles, mumps, polio) 1) yes, 2) no. (0, 1) \n",
    "- Accident or serious trauma 1) yes, 2) no. (0, 1) \n",
    "- Surgical intervention 1) yes, 2) no. (0, 1) \n",
    "- High fevers in the last year 1) less than three months ago, 2) more than three months ago, 3) no. (-1, 0, 1) \n",
    "- Frequency of alcohol consumption 1) several times a day, 2) every day, 3) several times a week, 4) once a week, 5) hardly ever or never (0, 1)\n",
    "- Smoking habit 1) never, 2) occasional 3) daily. (-1, 0, 1) \n",
    "- Number of hours spent sitting per day ene-16 (0, 1) \n",
    "- Output: Diagnosis normal (N), altered (O)\n",
    "\n"
   ]
  },
  {
   "cell_type": "code",
   "execution_count": 15,
   "id": "8d5f7578-b766-406e-86fa-5223aec7954a",
   "metadata": {},
   "outputs": [
    {
     "name": "stderr",
     "output_type": "stream",
     "text": [
      "/Users/nikolaus/Documents/Uni/TU/Machine Learning/1_dataset_description/venv/lib/python3.10/site-packages/openml/datasets/functions.py:438: FutureWarning: Starting from Version 0.15 `download_data`, `download_qualities`, and `download_features_meta_data` will all be ``False`` instead of ``True`` by default to enable lazy loading. To disable this message until version 0.15 explicitly set `download_data`, `download_qualities`, and `download_features_meta_data` to a bool while calling `get_dataset`.\n",
      "  warnings.warn(\n"
     ]
    }
   ],
   "source": [
    "x_fert, y_fert, _, attributes_fert = get_openml_data(dataset_id=1473)"
   ]
  },
  {
   "cell_type": "code",
   "execution_count": 16,
   "id": "6590de2f-9797-4aa8-888e-a0e6be97c9e7",
   "metadata": {},
   "outputs": [
    {
     "data": {
      "text/plain": "    season   age  child_diseases  accident  surgery  high_fever  alcohol  \\\n0    -0.33  0.69               0         1        1         0.0      0.8   \n1    -0.33  0.94               1         0        1         0.0      0.8   \n2    -0.33  0.50               1         0        0         0.0      1.0   \n3    -0.33  0.75               0         1        1         0.0      1.0   \n4    -0.33  0.67               1         1        0         0.0      0.8   \n..     ...   ...             ...       ...      ...         ...      ...   \n95   -1.00  0.67               1         0        0         0.0      1.0   \n96   -1.00  0.61               1         0        0         0.0      0.8   \n97   -1.00  0.67               1         1        1         0.0      1.0   \n98   -1.00  0.64               1         0        1         0.0      1.0   \n99   -1.00  0.69               0         1        1         0.0      0.6   \n\n    smoking  hours_sitting  \n0       0.0           0.88  \n1       1.0           0.31  \n2      -1.0           0.50  \n3      -1.0           0.38  \n4      -1.0           0.50  \n..      ...            ...  \n95     -1.0           0.50  \n96      0.0           0.50  \n97     -1.0           0.31  \n98      0.0           0.19  \n99     -1.0           0.19  \n\n[100 rows x 9 columns]",
      "text/html": "<div>\n<style scoped>\n    .dataframe tbody tr th:only-of-type {\n        vertical-align: middle;\n    }\n\n    .dataframe tbody tr th {\n        vertical-align: top;\n    }\n\n    .dataframe thead th {\n        text-align: right;\n    }\n</style>\n<table border=\"1\" class=\"dataframe\">\n  <thead>\n    <tr style=\"text-align: right;\">\n      <th></th>\n      <th>season</th>\n      <th>age</th>\n      <th>child_diseases</th>\n      <th>accident</th>\n      <th>surgery</th>\n      <th>high_fever</th>\n      <th>alcohol</th>\n      <th>smoking</th>\n      <th>hours_sitting</th>\n    </tr>\n  </thead>\n  <tbody>\n    <tr>\n      <th>0</th>\n      <td>-0.33</td>\n      <td>0.69</td>\n      <td>0</td>\n      <td>1</td>\n      <td>1</td>\n      <td>0.0</td>\n      <td>0.8</td>\n      <td>0.0</td>\n      <td>0.88</td>\n    </tr>\n    <tr>\n      <th>1</th>\n      <td>-0.33</td>\n      <td>0.94</td>\n      <td>1</td>\n      <td>0</td>\n      <td>1</td>\n      <td>0.0</td>\n      <td>0.8</td>\n      <td>1.0</td>\n      <td>0.31</td>\n    </tr>\n    <tr>\n      <th>2</th>\n      <td>-0.33</td>\n      <td>0.50</td>\n      <td>1</td>\n      <td>0</td>\n      <td>0</td>\n      <td>0.0</td>\n      <td>1.0</td>\n      <td>-1.0</td>\n      <td>0.50</td>\n    </tr>\n    <tr>\n      <th>3</th>\n      <td>-0.33</td>\n      <td>0.75</td>\n      <td>0</td>\n      <td>1</td>\n      <td>1</td>\n      <td>0.0</td>\n      <td>1.0</td>\n      <td>-1.0</td>\n      <td>0.38</td>\n    </tr>\n    <tr>\n      <th>4</th>\n      <td>-0.33</td>\n      <td>0.67</td>\n      <td>1</td>\n      <td>1</td>\n      <td>0</td>\n      <td>0.0</td>\n      <td>0.8</td>\n      <td>-1.0</td>\n      <td>0.50</td>\n    </tr>\n    <tr>\n      <th>...</th>\n      <td>...</td>\n      <td>...</td>\n      <td>...</td>\n      <td>...</td>\n      <td>...</td>\n      <td>...</td>\n      <td>...</td>\n      <td>...</td>\n      <td>...</td>\n    </tr>\n    <tr>\n      <th>95</th>\n      <td>-1.00</td>\n      <td>0.67</td>\n      <td>1</td>\n      <td>0</td>\n      <td>0</td>\n      <td>0.0</td>\n      <td>1.0</td>\n      <td>-1.0</td>\n      <td>0.50</td>\n    </tr>\n    <tr>\n      <th>96</th>\n      <td>-1.00</td>\n      <td>0.61</td>\n      <td>1</td>\n      <td>0</td>\n      <td>0</td>\n      <td>0.0</td>\n      <td>0.8</td>\n      <td>0.0</td>\n      <td>0.50</td>\n    </tr>\n    <tr>\n      <th>97</th>\n      <td>-1.00</td>\n      <td>0.67</td>\n      <td>1</td>\n      <td>1</td>\n      <td>1</td>\n      <td>0.0</td>\n      <td>1.0</td>\n      <td>-1.0</td>\n      <td>0.31</td>\n    </tr>\n    <tr>\n      <th>98</th>\n      <td>-1.00</td>\n      <td>0.64</td>\n      <td>1</td>\n      <td>0</td>\n      <td>1</td>\n      <td>0.0</td>\n      <td>1.0</td>\n      <td>0.0</td>\n      <td>0.19</td>\n    </tr>\n    <tr>\n      <th>99</th>\n      <td>-1.00</td>\n      <td>0.69</td>\n      <td>0</td>\n      <td>1</td>\n      <td>1</td>\n      <td>0.0</td>\n      <td>0.6</td>\n      <td>-1.0</td>\n      <td>0.19</td>\n    </tr>\n  </tbody>\n</table>\n<p>100 rows × 9 columns</p>\n</div>"
     },
     "execution_count": 16,
     "metadata": {},
     "output_type": "execute_result"
    }
   ],
   "source": [
    "# renaming the attributes of the features\n",
    "x_fert.columns = [\n",
    "    \"season\",\n",
    "    \"age\",\n",
    "    \"child_diseases\",\n",
    "    \"accident\",\n",
    "    \"surgery\",\n",
    "    \"high_fever\",\n",
    "    \"alcohol\",\n",
    "    \"smoking\",\n",
    "    \"hours_sitting\"\n",
    "]\n",
    "x_fert"
   ]
  },
  {
   "cell_type": "code",
   "execution_count": 17,
   "id": "5f54216b-d2da-4666-a888-64a50aa9643c",
   "metadata": {},
   "outputs": [
    {
     "name": "stdout",
     "output_type": "stream",
     "text": [
      "NAs in the dataset:\n"
     ]
    },
    {
     "data": {
      "text/plain": "season            0\nage               0\nchild_diseases    0\naccident          0\nsurgery           0\nhigh_fever        0\nalcohol           0\nsmoking           0\nhours_sitting     0\ndtype: int64"
     },
     "execution_count": 17,
     "metadata": {},
     "output_type": "execute_result"
    }
   ],
   "source": [
    "# counting NAs\n",
    "print(\"NAs in the dataset:\")\n",
    "x_fert.isna().sum()"
   ]
  },
  {
   "cell_type": "markdown",
   "id": "5697e5fd-5e98-48be-9b54-28deab804f99",
   "metadata": {},
   "source": [
    "### season"
   ]
  },
  {
   "cell_type": "code",
   "execution_count": 18,
   "id": "b6c954ab-ff5f-4ba0-8fe4-75f485667ce1",
   "metadata": {},
   "outputs": [
    {
     "name": "stdout",
     "output_type": "stream",
     "text": [
      "The weird numerical values of the season attribute:\n",
      "winter \t -1.0\n",
      "spring \t -0.33\n",
      "summer \t 0.33\n",
      "fall \t 1.0\n"
     ]
    }
   ],
   "source": [
    "# categorical, nominal, not ordinal, even though there is an explicit order, but its sequential and periodical\n",
    "# original values are weird\n",
    "print(\"The weird numerical values of the season attribute:\")\n",
    "seasons_list = [\"winter\", \"spring\", \"summer\", \"fall\"]\n",
    "for i,season in enumerate(sorted(x_fert.season.unique().tolist())):\n",
    "    print(seasons_list[i], \"\\t\", season)"
   ]
  },
  {
   "cell_type": "code",
   "execution_count": 19,
   "id": "1ad1979d-44ad-4a5c-8194-d3568aed021d",
   "metadata": {},
   "outputs": [
    {
     "name": "stdout",
     "output_type": "stream",
     "text": [
      "winter: 28\n",
      "spring: 37\n",
      "summer: 4\n",
      "fall: 31\n"
     ]
    }
   ],
   "source": [
    "# convert it to one-hot encoding\n",
    "\n",
    "x_fert.season = x_fert.season.apply(\n",
    "    lambda x: \"winter\" if x==-1 else (\"spring\" if x==-0.33 else (\"summer\" if x==0.33 else (\"fall\" if x==1 else x)))\n",
    ")\n",
    "x_fert = one_hot(x_fert, \"season\", delete=False)\n",
    "\n",
    "# uneven distribution of records per season\n",
    "for season in seasons_list:\n",
    "    print(season + \":\", x_fert[season].sum())"
   ]
  },
  {
   "cell_type": "markdown",
   "id": "e8cee2c0-d62b-4d14-ab15-0d9671ab8955",
   "metadata": {},
   "source": [
    "### age\n",
    "The age column is a float-value of ages 18 to 36, scaled down between 0 and 1. Presuming they did min-max-scaling, we can undo the scaling and determine that the patients were between 26 and 36 years old. For further processing, the scaling is fine though."
   ]
  },
  {
   "cell_type": "code",
   "execution_count": 20,
   "id": "83f57bfc-f11b-4d4e-8d16-00ab141576b6",
   "metadata": {},
   "outputs": [
    {
     "name": "stdout",
     "output_type": "stream",
     "text": [
      "Axes(0.125,0.11;0.775x0.77)\n"
     ]
    },
    {
     "data": {
      "text/plain": "<Figure size 640x480 with 1 Axes>",
      "image/png": "[encoded data removed]"
     },
     "metadata": {},
     "output_type": "display_data"
    }
   ],
   "source": [
    "print(sns.histplot(unscale(x_fert.age, 18, 36)))"
   ]
  },
  {
   "cell_type": "markdown",
   "id": "e5d80a2f-06d1-4e7b-8a7e-729da8892835",
   "metadata": {},
   "source": [
    "### hours_sitting\n",
    "Number of hours spent sitting per day, from 1 to 16, scaled down to fit between 0 and 1. Also presuming that they did min-max-scaling, \n",
    "we can unscale the values to get a better understanding of the recorded numbers. \n",
    "For any analyses the scaled values will do fine though. "
   ]
  },
  {
   "cell_type": "code",
   "execution_count": 21,
   "id": "c74f1720-0a1e-4334-ad74-ffff21c2f817",
   "metadata": {},
   "outputs": [
    {
     "name": "stdout",
     "output_type": "stream",
     "text": [
      "Axes(0.125,0.11;0.775x0.77)\n"
     ]
    },
    {
     "data": {
      "text/plain": "<Figure size 640x480 with 1 Axes>",
      "image/png": "[encoded data removed]"
     },
     "metadata": {},
     "output_type": "display_data"
    }
   ],
   "source": [
    "print(sns.histplot(unscale(x_fert.hours_sitting, 1, 16)))"
   ]
  },
  {
   "cell_type": "markdown",
   "id": "8bfd0012-8fe6-457f-90d1-4230badf84a4",
   "metadata": {},
   "source": [
    "### child_diseases, accident, surgery\n",
    "All three are basically one-hot-encoded, but they stored 0 for \"yes\" and 1 for \"no\". \n",
    "For consistency, we will reverse that.\n"
   ]
  },
  {
   "cell_type": "code",
   "execution_count": 22,
   "id": "c33db890-8fe0-4b4d-897e-8cc20ea649d4",
   "metadata": {},
   "outputs": [],
   "source": [
    "x_fert.child_diseases = x_fert.child_diseases.apply(lambda x: 1 if x == 0 else 0)\n",
    "x_fert.accident = x_fert.accident.apply(lambda x: 1 if x == 0 else 0)\n",
    "x_fert.surgery = x_fert.surgery.apply(lambda x: 1 if x == 0 else 0)"
   ]
  },
  {
   "cell_type": "markdown",
   "id": "06da0bc7-9f5b-4684-9ea8-161be934c854",
   "metadata": {},
   "source": [
    "### fever_recent\n",
    "Whether the patient has had high fevers within 3 months before the eximanation (-1), more than 3 months prior (0) or never (1). Whether one-hot-encoding is best for predictions depends on the model, but we will assume it is for now. It might be a logical issue to presume a fixed difference between the influence of high fever haivng occurred within 3 or more than 3 months or in fact never. We apply similar reasoning for the other variables with more than 2 levels. "
   ]
  },
  {
   "cell_type": "code",
   "execution_count": 23,
   "id": "257ff190-2531-4a99-bac1-e4d5517cc5fd",
   "metadata": {},
   "outputs": [
    {
     "data": {
      "text/plain": "0     0.0\n1     0.0\n2     0.0\n3     0.0\n4     0.0\n     ... \n95    0.0\n96    0.0\n97    0.0\n98    0.0\n99    0.0\nName: high_fever, Length: 100, dtype: float64"
     },
     "execution_count": 23,
     "metadata": {},
     "output_type": "execute_result"
    }
   ],
   "source": [
    "x_fert.high_fever"
   ]
  },
  {
   "cell_type": "code",
   "execution_count": 24,
   "id": "51d6aeec-2340-484a-a983-4841fed2334b",
   "metadata": {},
   "outputs": [
    {
     "data": {
      "text/plain": "<Axes: xlabel='high_fever', ylabel='Count'>"
     },
     "metadata": {},
     "output_type": "display_data"
    },
    {
     "data": {
      "text/plain": "    season   age  child_diseases  accident  surgery  high_fever  alcohol  \\\n0   spring  0.69               1         0        0  not_recent      0.8   \n1   spring  0.94               0         1        0  not_recent      0.8   \n2   spring  0.50               0         1        1  not_recent      1.0   \n3   spring  0.75               1         0        0  not_recent      1.0   \n4   spring  0.67               0         0        1  not_recent      0.8   \n..     ...   ...             ...       ...      ...         ...      ...   \n95  winter  0.67               0         1        1  not_recent      1.0   \n96  winter  0.61               0         1        1  not_recent      0.8   \n97  winter  0.67               0         0        0  not_recent      1.0   \n98  winter  0.64               0         1        0  not_recent      1.0   \n99  winter  0.69               1         0        0  not_recent      0.6   \n\n    smoking  hours_sitting  fall  spring  summer  winter  fever_never  \\\n0       0.0           0.88     0       1       0       0            0   \n1       1.0           0.31     0       1       0       0            0   \n2      -1.0           0.50     0       1       0       0            0   \n3      -1.0           0.38     0       1       0       0            0   \n4      -1.0           0.50     0       1       0       0            0   \n..      ...            ...   ...     ...     ...     ...          ...   \n95     -1.0           0.50     0       0       0       1            0   \n96      0.0           0.50     0       0       0       1            0   \n97     -1.0           0.31     0       0       0       1            0   \n98      0.0           0.19     0       0       0       1            0   \n99     -1.0           0.19     0       0       0       1            0   \n\n    fever_not_recent  fever_recent  \n0                  1             0  \n1                  1             0  \n2                  1             0  \n3                  1             0  \n4                  1             0  \n..               ...           ...  \n95                 1             0  \n96                 1             0  \n97                 1             0  \n98                 1             0  \n99                 1             0  \n\n[100 rows x 16 columns]",
      "text/html": "<div>\n<style scoped>\n    .dataframe tbody tr th:only-of-type {\n        vertical-align: middle;\n    }\n\n    .dataframe tbody tr th {\n        vertical-align: top;\n    }\n\n    .dataframe thead th {\n        text-align: right;\n    }\n</style>\n<table border=\"1\" class=\"dataframe\">\n  <thead>\n    <tr style=\"text-align: right;\">\n      <th></th>\n      <th>season</th>\n      <th>age</th>\n      <th>child_diseases</th>\n      <th>accident</th>\n      <th>surgery</th>\n      <th>high_fever</th>\n      <th>alcohol</th>\n      <th>smoking</th>\n      <th>hours_sitting</th>\n      <th>fall</th>\n      <th>spring</th>\n      <th>summer</th>\n      <th>winter</th>\n      <th>fever_never</th>\n      <th>fever_not_recent</th>\n      <th>fever_recent</th>\n    </tr>\n  </thead>\n  <tbody>\n    <tr>\n      <th>0</th>\n      <td>spring</td>\n      <td>0.69</td>\n      <td>1</td>\n      <td>0</td>\n      <td>0</td>\n      <td>not_recent</td>\n      <td>0.8</td>\n      <td>0.0</td>\n      <td>0.88</td>\n      <td>0</td>\n      <td>1</td>\n      <td>0</td>\n      <td>0</td>\n      <td>0</td>\n      <td>1</td>\n      <td>0</td>\n    </tr>\n    <tr>\n      <th>1</th>\n      <td>spring</td>\n      <td>0.94</td>\n      <td>0</td>\n      <td>1</td>\n      <td>0</td>\n      <td>not_recent</td>\n      <td>0.8</td>\n      <td>1.0</td>\n      <td>0.31</td>\n      <td>0</td>\n      <td>1</td>\n      <td>0</td>\n      <td>0</td>\n      <td>0</td>\n      <td>1</td>\n      <td>0</td>\n    </tr>\n    <tr>\n      <th>2</th>\n      <td>spring</td>\n      <td>0.50</td>\n      <td>0</td>\n      <td>1</td>\n      <td>1</td>\n      <td>not_recent</td>\n      <td>1.0</td>\n      <td>-1.0</td>\n      <td>0.50</td>\n      <td>0</td>\n      <td>1</td>\n      <td>0</td>\n      <td>0</td>\n      <td>0</td>\n      <td>1</td>\n      <td>0</td>\n    </tr>\n    <tr>\n      <th>3</th>\n      <td>spring</td>\n      <td>0.75</td>\n      <td>1</td>\n      <td>0</td>\n      <td>0</td>\n      <td>not_recent</td>\n      <td>1.0</td>\n      <td>-1.0</td>\n      <td>0.38</td>\n      <td>0</td>\n      <td>1</td>\n      <td>0</td>\n      <td>0</td>\n      <td>0</td>\n      <td>1</td>\n      <td>0</td>\n    </tr>\n    <tr>\n      <th>4</th>\n      <td>spring</td>\n      <td>0.67</td>\n      <td>0</td>\n      <td>0</td>\n      <td>1</td>\n      <td>not_recent</td>\n      <td>0.8</td>\n      <td>-1.0</td>\n      <td>0.50</td>\n      <td>0</td>\n      <td>1</td>\n      <td>0</td>\n      <td>0</td>\n      <td>0</td>\n      <td>1</td>\n      <td>0</td>\n    </tr>\n    <tr>\n      <th>...</th>\n      <td>...</td>\n      <td>...</td>\n      <td>...</td>\n      <td>...</td>\n      <td>...</td>\n      <td>...</td>\n      <td>...</td>\n      <td>...</td>\n      <td>...</td>\n      <td>...</td>\n      <td>...</td>\n      <td>...</td>\n      <td>...</td>\n      <td>...</td>\n      <td>...</td>\n      <td>...</td>\n    </tr>\n    <tr>\n      <th>95</th>\n      <td>winter</td>\n      <td>0.67</td>\n      <td>0</td>\n      <td>1</td>\n      <td>1</td>\n      <td>not_recent</td>\n      <td>1.0</td>\n      <td>-1.0</td>\n      <td>0.50</td>\n      <td>0</td>\n      <td>0</td>\n      <td>0</td>\n      <td>1</td>\n      <td>0</td>\n      <td>1</td>\n      <td>0</td>\n    </tr>\n    <tr>\n      <th>96</th>\n      <td>winter</td>\n      <td>0.61</td>\n      <td>0</td>\n      <td>1</td>\n      <td>1</td>\n      <td>not_recent</td>\n      <td>0.8</td>\n      <td>0.0</td>\n      <td>0.50</td>\n      <td>0</td>\n      <td>0</td>\n      <td>0</td>\n      <td>1</td>\n      <td>0</td>\n      <td>1</td>\n      <td>0</td>\n    </tr>\n    <tr>\n      <th>97</th>\n      <td>winter</td>\n      <td>0.67</td>\n      <td>0</td>\n      <td>0</td>\n      <td>0</td>\n      <td>not_recent</td>\n      <td>1.0</td>\n      <td>-1.0</td>\n      <td>0.31</td>\n      <td>0</td>\n      <td>0</td>\n      <td>0</td>\n      <td>1</td>\n      <td>0</td>\n      <td>1</td>\n      <td>0</td>\n    </tr>\n    <tr>\n      <th>98</th>\n      <td>winter</td>\n      <td>0.64</td>\n      <td>0</td>\n      <td>1</td>\n      <td>0</td>\n      <td>not_recent</td>\n      <td>1.0</td>\n      <td>0.0</td>\n      <td>0.19</td>\n      <td>0</td>\n      <td>0</td>\n      <td>0</td>\n      <td>1</td>\n      <td>0</td>\n      <td>1</td>\n      <td>0</td>\n    </tr>\n    <tr>\n      <th>99</th>\n      <td>winter</td>\n      <td>0.69</td>\n      <td>1</td>\n      <td>0</td>\n      <td>0</td>\n      <td>not_recent</td>\n      <td>0.6</td>\n      <td>-1.0</td>\n      <td>0.19</td>\n      <td>0</td>\n      <td>0</td>\n      <td>0</td>\n      <td>1</td>\n      <td>0</td>\n      <td>1</td>\n      <td>0</td>\n    </tr>\n  </tbody>\n</table>\n<p>100 rows × 16 columns</p>\n</div>"
     },
     "execution_count": 24,
     "metadata": {},
     "output_type": "execute_result"
    },
    {
     "data": {
      "text/plain": "<Figure size 640x480 with 1 Axes>",
      "image/png": "[encoded data removed]"
     },
     "metadata": {},
     "output_type": "display_data"
    }
   ],
   "source": [
    "x_fert.high_fever = x_fert.high_fever.apply(\n",
    "    lambda x: \"recent\" if x==-1 else (\"not_recent\" if x==0 else (\"never\" if x==1 else x))\n",
    ")\n",
    "display(sns.histplot(x_fert.high_fever))\n",
    "x_fert = one_hot(x_fert, \"high_fever\", prefix=\"fever_\")\n",
    "x_fert"
   ]
  },
  {
   "cell_type": "markdown",
   "id": "86295773-2f97-4047-a22c-11c99449fdc9",
   "metadata": {},
   "source": [
    "### smoking\n",
    "The patient's smoking habit as a nominal variable: -1 for never, 0 for occasionally and 1 for daily. "
   ]
  },
  {
   "cell_type": "code",
   "execution_count": 25,
   "id": "f7525fb8-3056-4705-a69f-ee81df9fdad2",
   "metadata": {},
   "outputs": [
    {
     "data": {
      "text/plain": "<Axes: xlabel='smoking', ylabel='Count'>"
     },
     "metadata": {},
     "output_type": "display_data"
    },
    {
     "data": {
      "text/plain": "    season   age  child_diseases  accident  surgery  high_fever  alcohol  \\\n0   spring  0.69               1         0        0  not_recent      0.8   \n1   spring  0.94               0         1        0  not_recent      0.8   \n2   spring  0.50               0         1        1  not_recent      1.0   \n3   spring  0.75               1         0        0  not_recent      1.0   \n4   spring  0.67               0         0        1  not_recent      0.8   \n..     ...   ...             ...       ...      ...         ...      ...   \n95  winter  0.67               0         1        1  not_recent      1.0   \n96  winter  0.61               0         1        1  not_recent      0.8   \n97  winter  0.67               0         0        0  not_recent      1.0   \n98  winter  0.64               0         1        0  not_recent      1.0   \n99  winter  0.69               1         0        0  not_recent      0.6   \n\n         smoking  hours_sitting  fall  spring  summer  winter  fever_never  \\\n0   occasionally           0.88     0       1       0       0            0   \n1          daily           0.31     0       1       0       0            0   \n2          never           0.50     0       1       0       0            0   \n3          never           0.38     0       1       0       0            0   \n4          never           0.50     0       1       0       0            0   \n..           ...            ...   ...     ...     ...     ...          ...   \n95         never           0.50     0       0       0       1            0   \n96  occasionally           0.50     0       0       0       1            0   \n97         never           0.31     0       0       0       1            0   \n98  occasionally           0.19     0       0       0       1            0   \n99         never           0.19     0       0       0       1            0   \n\n    fever_not_recent  fever_recent  smoking_daily  smoking_never  \\\n0                  1             0              0              0   \n1                  1             0              1              0   \n2                  1             0              0              1   \n3                  1             0              0              1   \n4                  1             0              0              1   \n..               ...           ...            ...            ...   \n95                 1             0              0              1   \n96                 1             0              0              0   \n97                 1             0              0              1   \n98                 1             0              0              0   \n99                 1             0              0              1   \n\n    smoking_occasionally  \n0                      1  \n1                      0  \n2                      0  \n3                      0  \n4                      0  \n..                   ...  \n95                     0  \n96                     1  \n97                     0  \n98                     1  \n99                     0  \n\n[100 rows x 19 columns]",
      "text/html": "<div>\n<style scoped>\n    .dataframe tbody tr th:only-of-type {\n        vertical-align: middle;\n    }\n\n    .dataframe tbody tr th {\n        vertical-align: top;\n    }\n\n    .dataframe thead th {\n        text-align: right;\n    }\n</style>\n<table border=\"1\" class=\"dataframe\">\n  <thead>\n    <tr style=\"text-align: right;\">\n      <th></th>\n      <th>season</th>\n      <th>age</th>\n      <th>child_diseases</th>\n      <th>accident</th>\n      <th>surgery</th>\n      <th>high_fever</th>\n      <th>alcohol</th>\n      <th>smoking</th>\n      <th>hours_sitting</th>\n      <th>fall</th>\n      <th>spring</th>\n      <th>summer</th>\n      <th>winter</th>\n      <th>fever_never</th>\n      <th>fever_not_recent</th>\n      <th>fever_recent</th>\n      <th>smoking_daily</th>\n      <th>smoking_never</th>\n      <th>smoking_occasionally</th>\n    </tr>\n  </thead>\n  <tbody>\n    <tr>\n      <th>0</th>\n      <td>spring</td>\n      <td>0.69</td>\n      <td>1</td>\n      <td>0</td>\n      <td>0</td>\n      <td>not_recent</td>\n      <td>0.8</td>\n      <td>occasionally</td>\n      <td>0.88</td>\n      <td>0</td>\n      <td>1</td>\n      <td>0</td>\n      <td>0</td>\n      <td>0</td>\n      <td>1</td>\n      <td>0</td>\n      <td>0</td>\n      <td>0</td>\n      <td>1</td>\n    </tr>\n    <tr>\n      <th>1</th>\n      <td>spring</td>\n      <td>0.94</td>\n      <td>0</td>\n      <td>1</td>\n      <td>0</td>\n      <td>not_recent</td>\n      <td>0.8</td>\n      <td>daily</td>\n      <td>0.31</td>\n      <td>0</td>\n      <td>1</td>\n      <td>0</td>\n      <td>0</td>\n      <td>0</td>\n      <td>1</td>\n      <td>0</td>\n      <td>1</td>\n      <td>0</td>\n      <td>0</td>\n    </tr>\n    <tr>\n      <th>2</th>\n      <td>spring</td>\n      <td>0.50</td>\n      <td>0</td>\n      <td>1</td>\n      <td>1</td>\n      <td>not_recent</td>\n      <td>1.0</td>\n      <td>never</td>\n      <td>0.50</td>\n      <td>0</td>\n      <td>1</td>\n      <td>0</td>\n      <td>0</td>\n      <td>0</td>\n      <td>1</td>\n      <td>0</td>\n      <td>0</td>\n      <td>1</td>\n      <td>0</td>\n    </tr>\n    <tr>\n      <th>3</th>\n      <td>spring</td>\n      <td>0.75</td>\n      <td>1</td>\n      <td>0</td>\n      <td>0</td>\n      <td>not_recent</td>\n      <td>1.0</td>\n      <td>never</td>\n      <td>0.38</td>\n      <td>0</td>\n      <td>1</td>\n      <td>0</td>\n      <td>0</td>\n      <td>0</td>\n      <td>1</td>\n      <td>0</td>\n      <td>0</td>\n      <td>1</td>\n      <td>0</td>\n    </tr>\n    <tr>\n      <th>4</th>\n      <td>spring</td>\n      <td>0.67</td>\n      <td>0</td>\n      <td>0</td>\n      <td>1</td>\n      <td>not_recent</td>\n      <td>0.8</td>\n      <td>never</td>\n      <td>0.50</td>\n      <td>0</td>\n      <td>1</td>\n      <td>0</td>\n      <td>0</td>\n      <td>0</td>\n      <td>1</td>\n      <td>0</td>\n      <td>0</td>\n      <td>1</td>\n      <td>0</td>\n    </tr>\n    <tr>\n      <th>...</th>\n      <td>...</td>\n      <td>...</td>\n      <td>...</td>\n      <td>...</td>\n      <td>...</td>\n      <td>...</td>\n      <td>...</td>\n      <td>...</td>\n      <td>...</td>\n      <td>...</td>\n      <td>...</td>\n      <td>...</td>\n      <td>...</td>\n      <td>...</td>\n      <td>...</td>\n      <td>...</td>\n      <td>...</td>\n      <td>...</td>\n      <td>...</td>\n    </tr>\n    <tr>\n      <th>95</th>\n      <td>winter</td>\n      <td>0.67</td>\n      <td>0</td>\n      <td>1</td>\n      <td>1</td>\n      <td>not_recent</td>\n      <td>1.0</td>\n      <td>never</td>\n      <td>0.50</td>\n      <td>0</td>\n      <td>0</td>\n      <td>0</td>\n      <td>1</td>\n      <td>0</td>\n      <td>1</td>\n      <td>0</td>\n      <td>0</td>\n      <td>1</td>\n      <td>0</td>\n    </tr>\n    <tr>\n      <th>96</th>\n      <td>winter</td>\n      <td>0.61</td>\n      <td>0</td>\n      <td>1</td>\n      <td>1</td>\n      <td>not_recent</td>\n      <td>0.8</td>\n      <td>occasionally</td>\n      <td>0.50</td>\n      <td>0</td>\n      <td>0</td>\n      <td>0</td>\n      <td>1</td>\n      <td>0</td>\n      <td>1</td>\n      <td>0</td>\n      <td>0</td>\n      <td>0</td>\n      <td>1</td>\n    </tr>\n    <tr>\n      <th>97</th>\n      <td>winter</td>\n      <td>0.67</td>\n      <td>0</td>\n      <td>0</td>\n      <td>0</td>\n      <td>not_recent</td>\n      <td>1.0</td>\n      <td>never</td>\n      <td>0.31</td>\n      <td>0</td>\n      <td>0</td>\n      <td>0</td>\n      <td>1</td>\n      <td>0</td>\n      <td>1</td>\n      <td>0</td>\n      <td>0</td>\n      <td>1</td>\n      <td>0</td>\n    </tr>\n    <tr>\n      <th>98</th>\n      <td>winter</td>\n      <td>0.64</td>\n      <td>0</td>\n      <td>1</td>\n      <td>0</td>\n      <td>not_recent</td>\n      <td>1.0</td>\n      <td>occasionally</td>\n      <td>0.19</td>\n      <td>0</td>\n      <td>0</td>\n      <td>0</td>\n      <td>1</td>\n      <td>0</td>\n      <td>1</td>\n      <td>0</td>\n      <td>0</td>\n      <td>0</td>\n      <td>1</td>\n    </tr>\n    <tr>\n      <th>99</th>\n      <td>winter</td>\n      <td>0.69</td>\n      <td>1</td>\n      <td>0</td>\n      <td>0</td>\n      <td>not_recent</td>\n      <td>0.6</td>\n      <td>never</td>\n      <td>0.19</td>\n      <td>0</td>\n      <td>0</td>\n      <td>0</td>\n      <td>1</td>\n      <td>0</td>\n      <td>1</td>\n      <td>0</td>\n      <td>0</td>\n      <td>1</td>\n      <td>0</td>\n    </tr>\n  </tbody>\n</table>\n<p>100 rows × 19 columns</p>\n</div>"
     },
     "execution_count": 25,
     "metadata": {},
     "output_type": "execute_result"
    },
    {
     "data": {
      "text/plain": "<Figure size 640x480 with 1 Axes>",
      "image/png": "[encoded data removed]"
     },
     "metadata": {},
     "output_type": "display_data"
    }
   ],
   "source": [
    "x_fert.smoking = x_fert.smoking.apply(\n",
    "    lambda x: \"never\" if x==-1 else (\"occasionally\" if x==0 else (\"daily\" if x==1 else x))\n",
    ")\n",
    "display(sns.histplot(x_fert.smoking))\n",
    "x_fert = one_hot(x_fert, \"smoking\", prefix=\"smoking_\")\n",
    "x_fert"
   ]
  },
  {
   "cell_type": "markdown",
   "id": "9c22bd18-3513-4152-b769-4a7ec3e87181",
   "metadata": {},
   "source": [
    "### alcohol\n",
    "This is yet another different approach to categorical value mapping. \n",
    "5 ordinal values mapped as values between 0.2 and 1 with steps of 0.2. \n"
   ]
  },
  {
   "cell_type": "code",
   "execution_count": 26,
   "id": "848a702e-fea7-4caa-86fb-6dcf4a0d6517",
   "metadata": {},
   "outputs": [
    {
     "data": {
      "text/plain": "<Axes: xlabel='alcohol', ylabel='Count'>"
     },
     "metadata": {},
     "output_type": "display_data"
    },
    {
     "data": {
      "text/plain": "    season   age  child_diseases  accident  surgery  high_fever  \\\n0   spring  0.69               1         0        0  not_recent   \n1   spring  0.94               0         1        0  not_recent   \n2   spring  0.50               0         1        1  not_recent   \n3   spring  0.75               1         0        0  not_recent   \n4   spring  0.67               0         0        1  not_recent   \n..     ...   ...             ...       ...      ...         ...   \n95  winter  0.67               0         1        1  not_recent   \n96  winter  0.61               0         1        1  not_recent   \n97  winter  0.67               0         0        0  not_recent   \n98  winter  0.64               0         1        0  not_recent   \n99  winter  0.69               1         0        0  not_recent   \n\n            alcohol       smoking  hours_sitting  fall  ...  fever_not_recent  \\\n0            weekly  occasionally           0.88     0  ...                 1   \n1            weekly         daily           0.31     0  ...                 1   \n2   rarely_or_never         never           0.50     0  ...                 1   \n3   rarely_or_never         never           0.38     0  ...                 1   \n4            weekly         never           0.50     0  ...                 1   \n..              ...           ...            ...   ...  ...               ...   \n95  rarely_or_never         never           0.50     0  ...                 1   \n96           weekly  occasionally           0.50     0  ...                 1   \n97  rarely_or_never         never           0.31     0  ...                 1   \n98  rarely_or_never  occasionally           0.19     0  ...                 1   \n99   several_weekly         never           0.19     0  ...                 1   \n\n    fever_recent  smoking_daily  smoking_never  smoking_occasionally  \\\n0              0              0              0                     1   \n1              0              1              0                     0   \n2              0              0              1                     0   \n3              0              0              1                     0   \n4              0              0              1                     0   \n..           ...            ...            ...                   ...   \n95             0              0              1                     0   \n96             0              0              0                     1   \n97             0              0              1                     0   \n98             0              0              0                     1   \n99             0              0              1                     0   \n\n    alcohol_daily  alcohol_rarely_or_never  alcohol_several_daily  \\\n0               0                        0                      0   \n1               0                        0                      0   \n2               0                        1                      0   \n3               0                        1                      0   \n4               0                        0                      0   \n..            ...                      ...                    ...   \n95              0                        1                      0   \n96              0                        0                      0   \n97              0                        1                      0   \n98              0                        1                      0   \n99              0                        0                      0   \n\n    alcohol_several_weekly  alcohol_weekly  \n0                        0               1  \n1                        0               1  \n2                        0               0  \n3                        0               0  \n4                        0               1  \n..                     ...             ...  \n95                       0               0  \n96                       0               1  \n97                       0               0  \n98                       0               0  \n99                       1               0  \n\n[100 rows x 24 columns]",
      "text/html": "<div>\n<style scoped>\n    .dataframe tbody tr th:only-of-type {\n        vertical-align: middle;\n    }\n\n    .dataframe tbody tr th {\n        vertical-align: top;\n    }\n\n    .dataframe thead th {\n        text-align: right;\n    }\n</style>\n<table border=\"1\" class=\"dataframe\">\n  <thead>\n    <tr style=\"text-align: right;\">\n      <th></th>\n      <th>season</th>\n      <th>age</th>\n      <th>child_diseases</th>\n      <th>accident</th>\n      <th>surgery</th>\n      <th>high_fever</th>\n      <th>alcohol</th>\n      <th>smoking</th>\n      <th>hours_sitting</th>\n      <th>fall</th>\n      <th>...</th>\n      <th>fever_not_recent</th>\n      <th>fever_recent</th>\n      <th>smoking_daily</th>\n      <th>smoking_never</th>\n      <th>smoking_occasionally</th>\n      <th>alcohol_daily</th>\n      <th>alcohol_rarely_or_never</th>\n      <th>alcohol_several_daily</th>\n      <th>alcohol_several_weekly</th>\n      <th>alcohol_weekly</th>\n    </tr>\n  </thead>\n  <tbody>\n    <tr>\n      <th>0</th>\n      <td>spring</td>\n      <td>0.69</td>\n      <td>1</td>\n      <td>0</td>\n      <td>0</td>\n      <td>not_recent</td>\n      <td>weekly</td>\n      <td>occasionally</td>\n      <td>0.88</td>\n      <td>0</td>\n      <td>...</td>\n      <td>1</td>\n      <td>0</td>\n      <td>0</td>\n      <td>0</td>\n      <td>1</td>\n      <td>0</td>\n      <td>0</td>\n      <td>0</td>\n      <td>0</td>\n      <td>1</td>\n    </tr>\n    <tr>\n      <th>1</th>\n      <td>spring</td>\n      <td>0.94</td>\n      <td>0</td>\n      <td>1</td>\n      <td>0</td>\n      <td>not_recent</td>\n      <td>weekly</td>\n      <td>daily</td>\n      <td>0.31</td>\n      <td>0</td>\n      <td>...</td>\n      <td>1</td>\n      <td>0</td>\n      <td>1</td>\n      <td>0</td>\n      <td>0</td>\n      <td>0</td>\n      <td>0</td>\n      <td>0</td>\n      <td>0</td>\n      <td>1</td>\n    </tr>\n    <tr>\n      <th>2</th>\n      <td>spring</td>\n      <td>0.50</td>\n      <td>0</td>\n      <td>1</td>\n      <td>1</td>\n      <td>not_recent</td>\n      <td>rarely_or_never</td>\n      <td>never</td>\n      <td>0.50</td>\n      <td>0</td>\n      <td>...</td>\n      <td>1</td>\n      <td>0</td>\n      <td>0</td>\n      <td>1</td>\n      <td>0</td>\n      <td>0</td>\n      <td>1</td>\n      <td>0</td>\n      <td>0</td>\n      <td>0</td>\n    </tr>\n    <tr>\n      <th>3</th>\n      <td>spring</td>\n      <td>0.75</td>\n      <td>1</td>\n      <td>0</td>\n      <td>0</td>\n      <td>not_recent</td>\n      <td>rarely_or_never</td>\n      <td>never</td>\n      <td>0.38</td>\n      <td>0</td>\n      <td>...</td>\n      <td>1</td>\n      <td>0</td>\n      <td>0</td>\n      <td>1</td>\n      <td>0</td>\n      <td>0</td>\n      <td>1</td>\n      <td>0</td>\n      <td>0</td>\n      <td>0</td>\n    </tr>\n    <tr>\n      <th>4</th>\n      <td>spring</td>\n      <td>0.67</td>\n      <td>0</td>\n      <td>0</td>\n      <td>1</td>\n      <td>not_recent</td>\n      <td>weekly</td>\n      <td>never</td>\n      <td>0.50</td>\n      <td>0</td>\n      <td>...</td>\n      <td>1</td>\n      <td>0</td>\n      <td>0</td>\n      <td>1</td>\n      <td>0</td>\n      <td>0</td>\n      <td>0</td>\n      <td>0</td>\n      <td>0</td>\n      <td>1</td>\n    </tr>\n    <tr>\n      <th>...</th>\n      <td>...</td>\n      <td>...</td>\n      <td>...</td>\n      <td>...</td>\n      <td>...</td>\n      <td>...</td>\n      <td>...</td>\n      <td>...</td>\n      <td>...</td>\n      <td>...</td>\n      <td>...</td>\n      <td>...</td>\n      <td>...</td>\n      <td>...</td>\n      <td>...</td>\n      <td>...</td>\n      <td>...</td>\n      <td>...</td>\n      <td>...</td>\n      <td>...</td>\n      <td>...</td>\n    </tr>\n    <tr>\n      <th>95</th>\n      <td>winter</td>\n      <td>0.67</td>\n      <td>0</td>\n      <td>1</td>\n      <td>1</td>\n      <td>not_recent</td>\n      <td>rarely_or_never</td>\n      <td>never</td>\n      <td>0.50</td>\n      <td>0</td>\n      <td>...</td>\n      <td>1</td>\n      <td>0</td>\n      <td>0</td>\n      <td>1</td>\n      <td>0</td>\n      <td>0</td>\n      <td>1</td>\n      <td>0</td>\n      <td>0</td>\n      <td>0</td>\n    </tr>\n    <tr>\n      <th>96</th>\n      <td>winter</td>\n      <td>0.61</td>\n      <td>0</td>\n      <td>1</td>\n      <td>1</td>\n      <td>not_recent</td>\n      <td>weekly</td>\n      <td>occasionally</td>\n      <td>0.50</td>\n      <td>0</td>\n      <td>...</td>\n      <td>1</td>\n      <td>0</td>\n      <td>0</td>\n      <td>0</td>\n      <td>1</td>\n      <td>0</td>\n      <td>0</td>\n      <td>0</td>\n      <td>0</td>\n      <td>1</td>\n    </tr>\n    <tr>\n      <th>97</th>\n      <td>winter</td>\n      <td>0.67</td>\n      <td>0</td>\n      <td>0</td>\n      <td>0</td>\n      <td>not_recent</td>\n      <td>rarely_or_never</td>\n      <td>never</td>\n      <td>0.31</td>\n      <td>0</td>\n      <td>...</td>\n      <td>1</td>\n      <td>0</td>\n      <td>0</td>\n      <td>1</td>\n      <td>0</td>\n      <td>0</td>\n      <td>1</td>\n      <td>0</td>\n      <td>0</td>\n      <td>0</td>\n    </tr>\n    <tr>\n      <th>98</th>\n      <td>winter</td>\n      <td>0.64</td>\n      <td>0</td>\n      <td>1</td>\n      <td>0</td>\n      <td>not_recent</td>\n      <td>rarely_or_never</td>\n      <td>occasionally</td>\n      <td>0.19</td>\n      <td>0</td>\n      <td>...</td>\n      <td>1</td>\n      <td>0</td>\n      <td>0</td>\n      <td>0</td>\n      <td>1</td>\n      <td>0</td>\n      <td>1</td>\n      <td>0</td>\n      <td>0</td>\n      <td>0</td>\n    </tr>\n    <tr>\n      <th>99</th>\n      <td>winter</td>\n      <td>0.69</td>\n      <td>1</td>\n      <td>0</td>\n      <td>0</td>\n      <td>not_recent</td>\n      <td>several_weekly</td>\n      <td>never</td>\n      <td>0.19</td>\n      <td>0</td>\n      <td>...</td>\n      <td>1</td>\n      <td>0</td>\n      <td>0</td>\n      <td>1</td>\n      <td>0</td>\n      <td>0</td>\n      <td>0</td>\n      <td>0</td>\n      <td>1</td>\n      <td>0</td>\n    </tr>\n  </tbody>\n</table>\n<p>100 rows × 24 columns</p>\n</div>"
     },
     "execution_count": 26,
     "metadata": {},
     "output_type": "execute_result"
    },
    {
     "data": {
      "text/plain": "<Figure size 640x480 with 1 Axes>",
      "image/png": "[encoded data removed]"
     },
     "metadata": {},
     "output_type": "display_data"
    }
   ],
   "source": [
    "display(sns.histplot(x_fert.alcohol))\n",
    "\n",
    "x_fert.alcohol = x_fert.alcohol.apply(\n",
    "    lambda x: \"several_daily\" if x==0.2 else (\"daily\" if x==0.4 else \n",
    "              (\"several_weekly\" if x==0.6 else (\"weekly\" if x==0.8 else \n",
    "            (\"rarely_or_never\" if x==1 else x))))\n",
    ")\n",
    "x_fert = one_hot(x_fert, \"alcohol\", prefix=\"alcohol_\")\n",
    "x_fert"
   ]
  },
  {
   "cell_type": "markdown",
   "id": "aa6154ae-52ab-46d3-ae3f-e4744f079fc1",
   "metadata": {},
   "source": [
    "### Class labels"
   ]
  },
  {
   "cell_type": "code",
   "execution_count": 27,
   "id": "6a87133f-6897-41da-ad9e-eb770f18f02d",
   "metadata": {},
   "outputs": [
    {
     "name": "stdout",
     "output_type": "stream",
     "text": [
      "total number of patients: 100\n",
      "normal (1): 88 ——— altered (2): 12\n"
     ]
    },
    {
     "data": {
      "text/plain": "<Axes: xlabel='fertility', ylabel='Count'>"
     },
     "execution_count": 27,
     "metadata": {},
     "output_type": "execute_result"
    },
    {
     "data": {
      "text/plain": "<Figure size 640x480 with 1 Axes>",
      "image/png": "[encoded data removed]"
     },
     "metadata": {},
     "output_type": "display_data"
    }
   ],
   "source": [
    "y_fert = y_fert.rename(\"fertility\")\n",
    "print(\"total number of patients:\", y_fert.count())\n",
    "print(\"normal (1):\", y_fert[y_fert==\"1\"].count(), \"——— altered (2):\", y_fert[y_fert==\"2\"].count())\n",
    "sns.histplot(y_fert.apply(lambda a: \"normal\" if a==\"1\" else \"altered\"))"
   ]
  },
  {
   "cell_type": "markdown",
   "id": "d2968b3a-181a-409c-b61f-201b296137e5",
   "metadata": {},
   "source": [
    "The classes can have either the values \"normal\" or \"altered\" for the diagnosed level of fertility. The data description on OpenML does not specify explicitly, whether 1 or 2 are \"normal\", but the distribution shows a crass difference between the occurrences of the classes and we presume that the majority of the sample has \"normal\" fertility. "
   ]
  },
  {
   "cell_type": "code",
   "execution_count": 28,
   "id": "ac8127c8-d46b-488d-890d-baff11edf608",
   "metadata": {},
   "outputs": [
    {
     "name": "stdout",
     "output_type": "stream",
     "text": [
      "0     0\n",
      "1     1\n",
      "2     0\n",
      "3     0\n",
      "4     1\n",
      "     ..\n",
      "95    0\n",
      "96    0\n",
      "97    0\n",
      "98    0\n",
      "99    0\n",
      "Name: fertility, Length: 100, dtype: category\n",
      "Categories (2, int64): [0 < 1]\n",
      "fertility\n",
      "0    88\n",
      "1    12\n",
      "Name: count, dtype: int64\n"
     ]
    }
   ],
   "source": [
    "# turn class labels to one-hot encoding: \n",
    "# 0 is \"normal\", 1 is \"altered\"\n",
    "y_fert = y_fert.apply(lambda x: 0 if x==\"1\" else 1)\n",
    "print(y_fert)\n",
    "print(y_fert.value_counts())"
   ]
  },
  {
   "cell_type": "code",
   "execution_count": 29,
   "id": "802383a6-ea5c-450e-bfa3-f36ced14a8ae",
   "metadata": {},
   "outputs": [
    {
     "data": {
      "text/plain": "    fertility  season   age  child_diseases  accident  surgery  high_fever  \\\n0           0  spring  0.69               1         0        0  not_recent   \n1           1  spring  0.94               0         1        0  not_recent   \n2           0  spring  0.50               0         1        1  not_recent   \n3           0  spring  0.75               1         0        0  not_recent   \n4           1  spring  0.67               0         0        1  not_recent   \n..        ...     ...   ...             ...       ...      ...         ...   \n95          0  winter  0.67               0         1        1  not_recent   \n96          0  winter  0.61               0         1        1  not_recent   \n97          0  winter  0.67               0         0        0  not_recent   \n98          0  winter  0.64               0         1        0  not_recent   \n99          0  winter  0.69               1         0        0  not_recent   \n\n            alcohol       smoking  hours_sitting  ...  fever_not_recent  \\\n0            weekly  occasionally           0.88  ...                 1   \n1            weekly         daily           0.31  ...                 1   \n2   rarely_or_never         never           0.50  ...                 1   \n3   rarely_or_never         never           0.38  ...                 1   \n4            weekly         never           0.50  ...                 1   \n..              ...           ...            ...  ...               ...   \n95  rarely_or_never         never           0.50  ...                 1   \n96           weekly  occasionally           0.50  ...                 1   \n97  rarely_or_never         never           0.31  ...                 1   \n98  rarely_or_never  occasionally           0.19  ...                 1   \n99   several_weekly         never           0.19  ...                 1   \n\n    fever_recent  smoking_daily  smoking_never  smoking_occasionally  \\\n0              0              0              0                     1   \n1              0              1              0                     0   \n2              0              0              1                     0   \n3              0              0              1                     0   \n4              0              0              1                     0   \n..           ...            ...            ...                   ...   \n95             0              0              1                     0   \n96             0              0              0                     1   \n97             0              0              1                     0   \n98             0              0              0                     1   \n99             0              0              1                     0   \n\n    alcohol_daily  alcohol_rarely_or_never  alcohol_several_daily  \\\n0               0                        0                      0   \n1               0                        0                      0   \n2               0                        1                      0   \n3               0                        1                      0   \n4               0                        0                      0   \n..            ...                      ...                    ...   \n95              0                        1                      0   \n96              0                        0                      0   \n97              0                        1                      0   \n98              0                        1                      0   \n99              0                        0                      0   \n\n    alcohol_several_weekly  alcohol_weekly  \n0                        0               1  \n1                        0               1  \n2                        0               0  \n3                        0               0  \n4                        0               1  \n..                     ...             ...  \n95                       0               0  \n96                       0               1  \n97                       0               0  \n98                       0               0  \n99                       1               0  \n\n[100 rows x 25 columns]",
      "text/html": "<div>\n<style scoped>\n    .dataframe tbody tr th:only-of-type {\n        vertical-align: middle;\n    }\n\n    .dataframe tbody tr th {\n        vertical-align: top;\n    }\n\n    .dataframe thead th {\n        text-align: right;\n    }\n</style>\n<table border=\"1\" class=\"dataframe\">\n  <thead>\n    <tr style=\"text-align: right;\">\n      <th></th>\n      <th>fertility</th>\n      <th>season</th>\n      <th>age</th>\n      <th>child_diseases</th>\n      <th>accident</th>\n      <th>surgery</th>\n      <th>high_fever</th>\n      <th>alcohol</th>\n      <th>smoking</th>\n      <th>hours_sitting</th>\n      <th>...</th>\n      <th>fever_not_recent</th>\n      <th>fever_recent</th>\n      <th>smoking_daily</th>\n      <th>smoking_never</th>\n      <th>smoking_occasionally</th>\n      <th>alcohol_daily</th>\n      <th>alcohol_rarely_or_never</th>\n      <th>alcohol_several_daily</th>\n      <th>alcohol_several_weekly</th>\n      <th>alcohol_weekly</th>\n    </tr>\n  </thead>\n  <tbody>\n    <tr>\n      <th>0</th>\n      <td>0</td>\n      <td>spring</td>\n      <td>0.69</td>\n      <td>1</td>\n      <td>0</td>\n      <td>0</td>\n      <td>not_recent</td>\n      <td>weekly</td>\n      <td>occasionally</td>\n      <td>0.88</td>\n      <td>...</td>\n      <td>1</td>\n      <td>0</td>\n      <td>0</td>\n      <td>0</td>\n      <td>1</td>\n      <td>0</td>\n      <td>0</td>\n      <td>0</td>\n      <td>0</td>\n      <td>1</td>\n    </tr>\n    <tr>\n      <th>1</th>\n      <td>1</td>\n      <td>spring</td>\n      <td>0.94</td>\n      <td>0</td>\n      <td>1</td>\n      <td>0</td>\n      <td>not_recent</td>\n      <td>weekly</td>\n      <td>daily</td>\n      <td>0.31</td>\n      <td>...</td>\n      <td>1</td>\n      <td>0</td>\n      <td>1</td>\n      <td>0</td>\n      <td>0</td>\n      <td>0</td>\n      <td>0</td>\n      <td>0</td>\n      <td>0</td>\n      <td>1</td>\n    </tr>\n    <tr>\n      <th>2</th>\n      <td>0</td>\n      <td>spring</td>\n      <td>0.50</td>\n      <td>0</td>\n      <td>1</td>\n      <td>1</td>\n      <td>not_recent</td>\n      <td>rarely_or_never</td>\n      <td>never</td>\n      <td>0.50</td>\n      <td>...</td>\n      <td>1</td>\n      <td>0</td>\n      <td>0</td>\n      <td>1</td>\n      <td>0</td>\n      <td>0</td>\n      <td>1</td>\n      <td>0</td>\n      <td>0</td>\n      <td>0</td>\n    </tr>\n    <tr>\n      <th>3</th>\n      <td>0</td>\n      <td>spring</td>\n      <td>0.75</td>\n      <td>1</td>\n      <td>0</td>\n      <td>0</td>\n      <td>not_recent</td>\n      <td>rarely_or_never</td>\n      <td>never</td>\n      <td>0.38</td>\n      <td>...</td>\n      <td>1</td>\n      <td>0</td>\n      <td>0</td>\n      <td>1</td>\n      <td>0</td>\n      <td>0</td>\n      <td>1</td>\n      <td>0</td>\n      <td>0</td>\n      <td>0</td>\n    </tr>\n    <tr>\n      <th>4</th>\n      <td>1</td>\n      <td>spring</td>\n      <td>0.67</td>\n      <td>0</td>\n      <td>0</td>\n      <td>1</td>\n      <td>not_recent</td>\n      <td>weekly</td>\n      <td>never</td>\n      <td>0.50</td>\n      <td>...</td>\n      <td>1</td>\n      <td>0</td>\n      <td>0</td>\n      <td>1</td>\n      <td>0</td>\n      <td>0</td>\n      <td>0</td>\n      <td>0</td>\n      <td>0</td>\n      <td>1</td>\n    </tr>\n    <tr>\n      <th>...</th>\n      <td>...</td>\n      <td>...</td>\n      <td>...</td>\n      <td>...</td>\n      <td>...</td>\n      <td>...</td>\n      <td>...</td>\n      <td>...</td>\n      <td>...</td>\n      <td>...</td>\n      <td>...</td>\n      <td>...</td>\n      <td>...</td>\n      <td>...</td>\n      <td>...</td>\n      <td>...</td>\n      <td>...</td>\n      <td>...</td>\n      <td>...</td>\n      <td>...</td>\n      <td>...</td>\n    </tr>\n    <tr>\n      <th>95</th>\n      <td>0</td>\n      <td>winter</td>\n      <td>0.67</td>\n      <td>0</td>\n      <td>1</td>\n      <td>1</td>\n      <td>not_recent</td>\n      <td>rarely_or_never</td>\n      <td>never</td>\n      <td>0.50</td>\n      <td>...</td>\n      <td>1</td>\n      <td>0</td>\n      <td>0</td>\n      <td>1</td>\n      <td>0</td>\n      <td>0</td>\n      <td>1</td>\n      <td>0</td>\n      <td>0</td>\n      <td>0</td>\n    </tr>\n    <tr>\n      <th>96</th>\n      <td>0</td>\n      <td>winter</td>\n      <td>0.61</td>\n      <td>0</td>\n      <td>1</td>\n      <td>1</td>\n      <td>not_recent</td>\n      <td>weekly</td>\n      <td>occasionally</td>\n      <td>0.50</td>\n      <td>...</td>\n      <td>1</td>\n      <td>0</td>\n      <td>0</td>\n      <td>0</td>\n      <td>1</td>\n      <td>0</td>\n      <td>0</td>\n      <td>0</td>\n      <td>0</td>\n      <td>1</td>\n    </tr>\n    <tr>\n      <th>97</th>\n      <td>0</td>\n      <td>winter</td>\n      <td>0.67</td>\n      <td>0</td>\n      <td>0</td>\n      <td>0</td>\n      <td>not_recent</td>\n      <td>rarely_or_never</td>\n      <td>never</td>\n      <td>0.31</td>\n      <td>...</td>\n      <td>1</td>\n      <td>0</td>\n      <td>0</td>\n      <td>1</td>\n      <td>0</td>\n      <td>0</td>\n      <td>1</td>\n      <td>0</td>\n      <td>0</td>\n      <td>0</td>\n    </tr>\n    <tr>\n      <th>98</th>\n      <td>0</td>\n      <td>winter</td>\n      <td>0.64</td>\n      <td>0</td>\n      <td>1</td>\n      <td>0</td>\n      <td>not_recent</td>\n      <td>rarely_or_never</td>\n      <td>occasionally</td>\n      <td>0.19</td>\n      <td>...</td>\n      <td>1</td>\n      <td>0</td>\n      <td>0</td>\n      <td>0</td>\n      <td>1</td>\n      <td>0</td>\n      <td>1</td>\n      <td>0</td>\n      <td>0</td>\n      <td>0</td>\n    </tr>\n    <tr>\n      <th>99</th>\n      <td>0</td>\n      <td>winter</td>\n      <td>0.69</td>\n      <td>1</td>\n      <td>0</td>\n      <td>0</td>\n      <td>not_recent</td>\n      <td>several_weekly</td>\n      <td>never</td>\n      <td>0.19</td>\n      <td>...</td>\n      <td>1</td>\n      <td>0</td>\n      <td>0</td>\n      <td>1</td>\n      <td>0</td>\n      <td>0</td>\n      <td>0</td>\n      <td>0</td>\n      <td>1</td>\n      <td>0</td>\n    </tr>\n  </tbody>\n</table>\n<p>100 rows × 25 columns</p>\n</div>"
     },
     "execution_count": 29,
     "metadata": {},
     "output_type": "execute_result"
    }
   ],
   "source": [
    "fertility = pd.concat([y_fert, x_fert], axis=1)\n",
    "fertility.fertility = fertility.fertility.astype(int)\n",
    "fertility"
   ]
  },
  {
   "cell_type": "code",
   "execution_count": 30,
   "id": "45b85382-e2ff-4d19-9c70-b84fd06ff222",
   "metadata": {},
   "outputs": [
    {
     "data": {
      "text/plain": "                        var fertility     value\n0                       age    normal  0.663864\n1            child_diseases    normal  0.125000\n2                  accident    normal  0.534091\n3                   surgery    normal  0.500000\n4             hours_sitting    normal  0.405227\n5                      fall    normal  0.284091\n6                    spring    normal  0.375000\n7                    summer    normal  0.034091\n8                    winter    normal  0.306818\n9               fever_never    normal  0.295455\n10         fever_not_recent    normal  0.625000\n11             fever_recent    normal  0.079545\n12            smoking_daily    normal  0.204545\n13            smoking_never    normal  0.568182\n14     smoking_occasionally    normal  0.227273\n15            alcohol_daily    normal  0.011364\n16  alcohol_rarely_or_never    normal  0.431818\n17    alcohol_several_daily    normal  0.011364\n18   alcohol_several_weekly    normal  0.170455\n19           alcohol_weekly    normal  0.375000\n20                      age   altered  0.706667\n21           child_diseases   altered  0.166667\n22                 accident   altered  0.750000\n23                  surgery   altered  0.416667\n24            hours_sitting   altered  0.418333\n25                     fall   altered  0.500000\n26                   spring   altered  0.333333\n27                   summer   altered  0.083333\n28                   winter   altered  0.083333\n29              fever_never   altered  0.166667\n30         fever_not_recent   altered  0.666667\n31             fever_recent   altered  0.166667\n32            smoking_daily   altered  0.250000\n33            smoking_never   altered  0.500000\n34     smoking_occasionally   altered  0.250000\n35            alcohol_daily   altered  0.000000\n36  alcohol_rarely_or_never   altered  0.166667\n37    alcohol_several_daily   altered  0.000000\n38   alcohol_several_weekly   altered  0.333333\n39           alcohol_weekly   altered  0.500000",
      "text/html": "<div>\n<style scoped>\n    .dataframe tbody tr th:only-of-type {\n        vertical-align: middle;\n    }\n\n    .dataframe tbody tr th {\n        vertical-align: top;\n    }\n\n    .dataframe thead th {\n        text-align: right;\n    }\n</style>\n<table border=\"1\" class=\"dataframe\">\n  <thead>\n    <tr style=\"text-align: right;\">\n      <th></th>\n      <th>var</th>\n      <th>fertility</th>\n      <th>value</th>\n    </tr>\n  </thead>\n  <tbody>\n    <tr>\n      <th>0</th>\n      <td>age</td>\n      <td>normal</td>\n      <td>0.663864</td>\n    </tr>\n    <tr>\n      <th>1</th>\n      <td>child_diseases</td>\n      <td>normal</td>\n      <td>0.125000</td>\n    </tr>\n    <tr>\n      <th>2</th>\n      <td>accident</td>\n      <td>normal</td>\n      <td>0.534091</td>\n    </tr>\n    <tr>\n      <th>3</th>\n      <td>surgery</td>\n      <td>normal</td>\n      <td>0.500000</td>\n    </tr>\n    <tr>\n      <th>4</th>\n      <td>hours_sitting</td>\n      <td>normal</td>\n      <td>0.405227</td>\n    </tr>\n    <tr>\n      <th>5</th>\n      <td>fall</td>\n      <td>normal</td>\n      <td>0.284091</td>\n    </tr>\n    <tr>\n      <th>6</th>\n      <td>spring</td>\n      <td>normal</td>\n      <td>0.375000</td>\n    </tr>\n    <tr>\n      <th>7</th>\n      <td>summer</td>\n      <td>normal</td>\n      <td>0.034091</td>\n    </tr>\n    <tr>\n      <th>8</th>\n      <td>winter</td>\n      <td>normal</td>\n      <td>0.306818</td>\n    </tr>\n    <tr>\n      <th>9</th>\n      <td>fever_never</td>\n      <td>normal</td>\n      <td>0.295455</td>\n    </tr>\n    <tr>\n      <th>10</th>\n      <td>fever_not_recent</td>\n      <td>normal</td>\n      <td>0.625000</td>\n    </tr>\n    <tr>\n      <th>11</th>\n      <td>fever_recent</td>\n      <td>normal</td>\n      <td>0.079545</td>\n    </tr>\n    <tr>\n      <th>12</th>\n      <td>smoking_daily</td>\n      <td>normal</td>\n      <td>0.204545</td>\n    </tr>\n    <tr>\n      <th>13</th>\n      <td>smoking_never</td>\n      <td>normal</td>\n      <td>0.568182</td>\n    </tr>\n    <tr>\n      <th>14</th>\n      <td>smoking_occasionally</td>\n      <td>normal</td>\n      <td>0.227273</td>\n    </tr>\n    <tr>\n      <th>15</th>\n      <td>alcohol_daily</td>\n      <td>normal</td>\n      <td>0.011364</td>\n    </tr>\n    <tr>\n      <th>16</th>\n      <td>alcohol_rarely_or_never</td>\n      <td>normal</td>\n      <td>0.431818</td>\n    </tr>\n    <tr>\n      <th>17</th>\n      <td>alcohol_several_daily</td>\n      <td>normal</td>\n      <td>0.011364</td>\n    </tr>\n    <tr>\n      <th>18</th>\n      <td>alcohol_several_weekly</td>\n      <td>normal</td>\n      <td>0.170455</td>\n    </tr>\n    <tr>\n      <th>19</th>\n      <td>alcohol_weekly</td>\n      <td>normal</td>\n      <td>0.375000</td>\n    </tr>\n    <tr>\n      <th>20</th>\n      <td>age</td>\n      <td>altered</td>\n      <td>0.706667</td>\n    </tr>\n    <tr>\n      <th>21</th>\n      <td>child_diseases</td>\n      <td>altered</td>\n      <td>0.166667</td>\n    </tr>\n    <tr>\n      <th>22</th>\n      <td>accident</td>\n      <td>altered</td>\n      <td>0.750000</td>\n    </tr>\n    <tr>\n      <th>23</th>\n      <td>surgery</td>\n      <td>altered</td>\n      <td>0.416667</td>\n    </tr>\n    <tr>\n      <th>24</th>\n      <td>hours_sitting</td>\n      <td>altered</td>\n      <td>0.418333</td>\n    </tr>\n    <tr>\n      <th>25</th>\n      <td>fall</td>\n      <td>altered</td>\n      <td>0.500000</td>\n    </tr>\n    <tr>\n      <th>26</th>\n      <td>spring</td>\n      <td>altered</td>\n      <td>0.333333</td>\n    </tr>\n    <tr>\n      <th>27</th>\n      <td>summer</td>\n      <td>altered</td>\n      <td>0.083333</td>\n    </tr>\n    <tr>\n      <th>28</th>\n      <td>winter</td>\n      <td>altered</td>\n      <td>0.083333</td>\n    </tr>\n    <tr>\n      <th>29</th>\n      <td>fever_never</td>\n      <td>altered</td>\n      <td>0.166667</td>\n    </tr>\n    <tr>\n      <th>30</th>\n      <td>fever_not_recent</td>\n      <td>altered</td>\n      <td>0.666667</td>\n    </tr>\n    <tr>\n      <th>31</th>\n      <td>fever_recent</td>\n      <td>altered</td>\n      <td>0.166667</td>\n    </tr>\n    <tr>\n      <th>32</th>\n      <td>smoking_daily</td>\n      <td>altered</td>\n      <td>0.250000</td>\n    </tr>\n    <tr>\n      <th>33</th>\n      <td>smoking_never</td>\n      <td>altered</td>\n      <td>0.500000</td>\n    </tr>\n    <tr>\n      <th>34</th>\n      <td>smoking_occasionally</td>\n      <td>altered</td>\n      <td>0.250000</td>\n    </tr>\n    <tr>\n      <th>35</th>\n      <td>alcohol_daily</td>\n      <td>altered</td>\n      <td>0.000000</td>\n    </tr>\n    <tr>\n      <th>36</th>\n      <td>alcohol_rarely_or_never</td>\n      <td>altered</td>\n      <td>0.166667</td>\n    </tr>\n    <tr>\n      <th>37</th>\n      <td>alcohol_several_daily</td>\n      <td>altered</td>\n      <td>0.000000</td>\n    </tr>\n    <tr>\n      <th>38</th>\n      <td>alcohol_several_weekly</td>\n      <td>altered</td>\n      <td>0.333333</td>\n    </tr>\n    <tr>\n      <th>39</th>\n      <td>alcohol_weekly</td>\n      <td>altered</td>\n      <td>0.500000</td>\n    </tr>\n  </tbody>\n</table>\n</div>"
     },
     "execution_count": 30,
     "metadata": {},
     "output_type": "execute_result"
    }
   ],
   "source": [
    "means = fertility._get_numeric_data().groupby(\"fertility\").mean().transpose().reset_index().rename(columns={'index': 'var',\n",
    "                                                                                                           0: 'normal',\n",
    "                                                                                                           1: 'altered'})\n",
    "means_long = pd.melt(means, id_vars='var', value_vars=[\"normal\", \"altered\"], var_name=\"fertility\")\n",
    "means_long"
   ]
  },
  {
   "cell_type": "code",
   "execution_count": 31,
   "id": "42965da9-8f00-4c1e-befa-711d553b32c3",
   "metadata": {},
   "outputs": [
    {
     "data": {
      "text/plain": "[Text(0.5, 0, ''), Text(0, 0.5, 'probability of patient having the attribute')]"
     },
     "execution_count": 31,
     "metadata": {},
     "output_type": "execute_result"
    },
    {
     "data": {
      "text/plain": "<Figure size 1200x500 with 1 Axes>",
      "image/png": "[encoded data removed]"
     },
     "metadata": {},
     "output_type": "display_data"
    }
   ],
   "source": [
    "plt.rcParams['figure.figsize'] = [12, 5]\n",
    "plt.xticks(rotation=45, horizontalalignment='right')\n",
    "\n",
    "\n",
    "var_selection = [\"child_diseases\", \"accident\", \"surgery\", \"fever_recent\", \"smoking_daily\", \"smoking_neer\", \n",
    "                 \"alcohol_rarely_or_never\", \"alcohol_several_weekly\"]\n",
    "\n",
    "p=sns.barplot(\n",
    "    x=\"var\",\n",
    "    y=\"value\",\n",
    "    hue=\"fertility\",\n",
    "    data=means_long[means_long[\"var\"].isin(var_selection)]\n",
    ")\n",
    "p.set(xlabel=\"\", ylabel=\"probability of patient having the attribute\")"
   ]
  },
  {
   "cell_type": "code",
   "execution_count": 32,
   "id": "6cdcfd86-6cc4-4be9-9774-a4862ad42183",
   "metadata": {},
   "outputs": [
    {
     "data": {
      "text/plain": "                        var fertility     value\n0                       age    normal  0.663864\n1            child_diseases    normal  0.125000\n2                  accident    normal  0.534091\n3                   surgery    normal  0.500000\n4             hours_sitting    normal  0.405227\n5                      fall    normal  0.284091\n6                    spring    normal  0.375000\n7                    summer    normal  0.034091\n8                    winter    normal  0.306818\n9               fever_never    normal  0.295455\n10         fever_not_recent    normal  0.625000\n11             fever_recent    normal  0.079545\n12            smoking_daily    normal  0.204545\n13            smoking_never    normal  0.568182\n14     smoking_occasionally    normal  0.227273\n15            alcohol_daily    normal  0.011364\n16  alcohol_rarely_or_never    normal  0.431818\n17    alcohol_several_daily    normal  0.011364\n18   alcohol_several_weekly    normal  0.170455\n19           alcohol_weekly    normal  0.375000\n20                      age   altered  0.706667\n21           child_diseases   altered  0.166667\n22                 accident   altered  0.750000\n23                  surgery   altered  0.416667\n24            hours_sitting   altered  0.418333\n25                     fall   altered  0.500000\n26                   spring   altered  0.333333\n27                   summer   altered  0.083333\n28                   winter   altered  0.083333\n29              fever_never   altered  0.166667\n30         fever_not_recent   altered  0.666667\n31             fever_recent   altered  0.166667\n32            smoking_daily   altered  0.250000\n33            smoking_never   altered  0.500000\n34     smoking_occasionally   altered  0.250000\n35            alcohol_daily   altered  0.000000\n36  alcohol_rarely_or_never   altered  0.166667\n37    alcohol_several_daily   altered  0.000000\n38   alcohol_several_weekly   altered  0.333333\n39           alcohol_weekly   altered  0.500000",
      "text/html": "<div>\n<style scoped>\n    .dataframe tbody tr th:only-of-type {\n        vertical-align: middle;\n    }\n\n    .dataframe tbody tr th {\n        vertical-align: top;\n    }\n\n    .dataframe thead th {\n        text-align: right;\n    }\n</style>\n<table border=\"1\" class=\"dataframe\">\n  <thead>\n    <tr style=\"text-align: right;\">\n      <th></th>\n      <th>var</th>\n      <th>fertility</th>\n      <th>value</th>\n    </tr>\n  </thead>\n  <tbody>\n    <tr>\n      <th>0</th>\n      <td>age</td>\n      <td>normal</td>\n      <td>0.663864</td>\n    </tr>\n    <tr>\n      <th>1</th>\n      <td>child_diseases</td>\n      <td>normal</td>\n      <td>0.125000</td>\n    </tr>\n    <tr>\n      <th>2</th>\n      <td>accident</td>\n      <td>normal</td>\n      <td>0.534091</td>\n    </tr>\n    <tr>\n      <th>3</th>\n      <td>surgery</td>\n      <td>normal</td>\n      <td>0.500000</td>\n    </tr>\n    <tr>\n      <th>4</th>\n      <td>hours_sitting</td>\n      <td>normal</td>\n      <td>0.405227</td>\n    </tr>\n    <tr>\n      <th>5</th>\n      <td>fall</td>\n      <td>normal</td>\n      <td>0.284091</td>\n    </tr>\n    <tr>\n      <th>6</th>\n      <td>spring</td>\n      <td>normal</td>\n      <td>0.375000</td>\n    </tr>\n    <tr>\n      <th>7</th>\n      <td>summer</td>\n      <td>normal</td>\n      <td>0.034091</td>\n    </tr>\n    <tr>\n      <th>8</th>\n      <td>winter</td>\n      <td>normal</td>\n      <td>0.306818</td>\n    </tr>\n    <tr>\n      <th>9</th>\n      <td>fever_never</td>\n      <td>normal</td>\n      <td>0.295455</td>\n    </tr>\n    <tr>\n      <th>10</th>\n      <td>fever_not_recent</td>\n      <td>normal</td>\n      <td>0.625000</td>\n    </tr>\n    <tr>\n      <th>11</th>\n      <td>fever_recent</td>\n      <td>normal</td>\n      <td>0.079545</td>\n    </tr>\n    <tr>\n      <th>12</th>\n      <td>smoking_daily</td>\n      <td>normal</td>\n      <td>0.204545</td>\n    </tr>\n    <tr>\n      <th>13</th>\n      <td>smoking_never</td>\n      <td>normal</td>\n      <td>0.568182</td>\n    </tr>\n    <tr>\n      <th>14</th>\n      <td>smoking_occasionally</td>\n      <td>normal</td>\n      <td>0.227273</td>\n    </tr>\n    <tr>\n      <th>15</th>\n      <td>alcohol_daily</td>\n      <td>normal</td>\n      <td>0.011364</td>\n    </tr>\n    <tr>\n      <th>16</th>\n      <td>alcohol_rarely_or_never</td>\n      <td>normal</td>\n      <td>0.431818</td>\n    </tr>\n    <tr>\n      <th>17</th>\n      <td>alcohol_several_daily</td>\n      <td>normal</td>\n      <td>0.011364</td>\n    </tr>\n    <tr>\n      <th>18</th>\n      <td>alcohol_several_weekly</td>\n      <td>normal</td>\n      <td>0.170455</td>\n    </tr>\n    <tr>\n      <th>19</th>\n      <td>alcohol_weekly</td>\n      <td>normal</td>\n      <td>0.375000</td>\n    </tr>\n    <tr>\n      <th>20</th>\n      <td>age</td>\n      <td>altered</td>\n      <td>0.706667</td>\n    </tr>\n    <tr>\n      <th>21</th>\n      <td>child_diseases</td>\n      <td>altered</td>\n      <td>0.166667</td>\n    </tr>\n    <tr>\n      <th>22</th>\n      <td>accident</td>\n      <td>altered</td>\n      <td>0.750000</td>\n    </tr>\n    <tr>\n      <th>23</th>\n      <td>surgery</td>\n      <td>altered</td>\n      <td>0.416667</td>\n    </tr>\n    <tr>\n      <th>24</th>\n      <td>hours_sitting</td>\n      <td>altered</td>\n      <td>0.418333</td>\n    </tr>\n    <tr>\n      <th>25</th>\n      <td>fall</td>\n      <td>altered</td>\n      <td>0.500000</td>\n    </tr>\n    <tr>\n      <th>26</th>\n      <td>spring</td>\n      <td>altered</td>\n      <td>0.333333</td>\n    </tr>\n    <tr>\n      <th>27</th>\n      <td>summer</td>\n      <td>altered</td>\n      <td>0.083333</td>\n    </tr>\n    <tr>\n      <th>28</th>\n      <td>winter</td>\n      <td>altered</td>\n      <td>0.083333</td>\n    </tr>\n    <tr>\n      <th>29</th>\n      <td>fever_never</td>\n      <td>altered</td>\n      <td>0.166667</td>\n    </tr>\n    <tr>\n      <th>30</th>\n      <td>fever_not_recent</td>\n      <td>altered</td>\n      <td>0.666667</td>\n    </tr>\n    <tr>\n      <th>31</th>\n      <td>fever_recent</td>\n      <td>altered</td>\n      <td>0.166667</td>\n    </tr>\n    <tr>\n      <th>32</th>\n      <td>smoking_daily</td>\n      <td>altered</td>\n      <td>0.250000</td>\n    </tr>\n    <tr>\n      <th>33</th>\n      <td>smoking_never</td>\n      <td>altered</td>\n      <td>0.500000</td>\n    </tr>\n    <tr>\n      <th>34</th>\n      <td>smoking_occasionally</td>\n      <td>altered</td>\n      <td>0.250000</td>\n    </tr>\n    <tr>\n      <th>35</th>\n      <td>alcohol_daily</td>\n      <td>altered</td>\n      <td>0.000000</td>\n    </tr>\n    <tr>\n      <th>36</th>\n      <td>alcohol_rarely_or_never</td>\n      <td>altered</td>\n      <td>0.166667</td>\n    </tr>\n    <tr>\n      <th>37</th>\n      <td>alcohol_several_daily</td>\n      <td>altered</td>\n      <td>0.000000</td>\n    </tr>\n    <tr>\n      <th>38</th>\n      <td>alcohol_several_weekly</td>\n      <td>altered</td>\n      <td>0.333333</td>\n    </tr>\n    <tr>\n      <th>39</th>\n      <td>alcohol_weekly</td>\n      <td>altered</td>\n      <td>0.500000</td>\n    </tr>\n  </tbody>\n</table>\n</div>"
     },
     "execution_count": 32,
     "metadata": {},
     "output_type": "execute_result"
    }
   ],
   "source": [
    "means_long"
   ]
  },
  {
   "cell_type": "code",
   "execution_count": 33,
   "outputs": [],
   "source": [
    "# splitting the data\n",
    "x_fert_train, x_fert_test, y_fert_train, y_fert_test = train_test_split(x_fert, y_fert, test_size=0.2, random_state=0, stratify=y_fert)"
   ],
   "metadata": {
    "collapsed": false
   }
  },
  {
   "cell_type": "code",
   "execution_count": 70,
   "id": "44747948-e6a0-45b8-8e89-d4bcd6c6a72a",
   "metadata": {},
   "outputs": [],
   "source": [
    "# saving datasets for later\n",
    "with open(\"data/fertility/fertility_preprocessed.pickle\", \"wb\") as f:\n",
    "    pickle.dump([x_fert_train, y_fert_train, x_fert_test, y_fert_test], f, protocol=pickle.HIGHEST_PROTOCOL)\n"
   ]
  },
  {
   "cell_type": "markdown",
   "source": [
    "## Dataset 3: Amazon Reviews\n",
    "\n",
    "No proper metadata or qualitative information about this and the following dataset have been provided. Therefore, any predictions and analyses will be based on the data itself and shan't be interpreted to draw any conclusions about the real world. It is merely an exercise in data analysis and prediction."
   ],
   "metadata": {
    "collapsed": false
   }
  },
  {
   "cell_type": "code",
   "execution_count": 40,
   "outputs": [],
   "source": [
    "reviews_train = pd.read_csv('data/reviews/amazon_review_ID.shuf.lrn.csv')\n",
    "reviews_test = pd.read_csv('data/reviews/amazon_review_ID.shuf.tes.csv')\n",
    "\n",
    "y_reviews_train = reviews_train.Class\n",
    "x_reviews_train = reviews_train.drop([\"ID\", \"Class\"], axis=1)\n"
   ],
   "metadata": {
    "collapsed": false
   }
  },
  {
   "cell_type": "code",
   "execution_count": 41,
   "outputs": [
    {
     "name": "stdout",
     "output_type": "stream",
     "text": [
      "50\n",
      "Class\n",
      "Calvinnme      21\n",
      "Walters        21\n",
      "Nigam          20\n",
      "Wilson         20\n",
      "Davisson       19\n",
      "Chachra        19\n",
      "Sherwin        18\n",
      "Vernon         18\n",
      "Kolln          18\n",
      "Power          18\n",
      "Lee            17\n",
      "Brody          17\n",
      "Koenig         17\n",
      "Neal           17\n",
      "Hayes          17\n",
      "Harp           17\n",
      "CFH            17\n",
      "Auken          17\n",
      "Brown          16\n",
      "Grove          16\n",
      "Engineer       15\n",
      "Lawyeraau      15\n",
      "Shea           15\n",
      "Mitchell       15\n",
      "Mark           15\n",
      "Cutey          15\n",
      "Chell          14\n",
      "Taylor         14\n",
      "Peterson       14\n",
      "Ashbacher      14\n",
      "Cholette       14\n",
      "Janson         14\n",
      "Chandler       14\n",
      "Mahlers2nd     14\n",
      "Riley          14\n",
      "Agresti        13\n",
      "Messick        13\n",
      "Lovitt         13\n",
      "Bukowsky       12\n",
      "Vision         12\n",
      "Corn           12\n",
      "Robert         12\n",
      "Merritt        12\n",
      "Blankenship    12\n",
      "Dent           11\n",
      "Johnson        11\n",
      "Goonan         11\n",
      "Morrison       11\n",
      "Comdet         10\n",
      "McKee           9\n",
      "Name: count, dtype: int64\n"
     ]
    }
   ],
   "source": [
    "print(y_reviews_train.nunique())\n",
    "print(y_reviews_train.value_counts())"
   ],
   "metadata": {
    "collapsed": false
   }
  },
  {
   "cell_type": "code",
   "execution_count": 42,
   "outputs": [
    {
     "name": "stdout",
     "output_type": "stream",
     "text": [
      "     V1  V2  V3  V4  V5  V6  V7  V8  V9  V10  ...  V9991  V9992  V9993  V9994  \\\n",
      "0    14   9   8  12   7   4   5   3   2    2  ...      2      0      1      0   \n",
      "1    12   3   8   6   5   3   2   3   2    0  ...      0      0      0      0   \n",
      "2    17   5   7  12   8   3   0   3   2    3  ...      0      0      1      0   \n",
      "3     9   6  10   6   4   7   7   3   3    3  ...      0      0      0      0   \n",
      "4     8   4   5   5   1   7   0   0   0    0  ...      0      0      0      3   \n",
      "..   ..  ..  ..  ..  ..  ..  ..  ..  ..  ...  ...    ...    ...    ...    ...   \n",
      "745   9   4   3   4   6   7   2   1   0    1  ...      0      1      1      1   \n",
      "746  13   6   1  13   2   5   7   5   3    1  ...      0      0      0      0   \n",
      "747  19   9  12   3   9   7   5   2   5    2  ...      2      1      0      0   \n",
      "748   5  14  16   7   2  12   9   3   7    4  ...      0      0      0      0   \n",
      "749   7  10   4   4   9   0   2   8   1    2  ...      0      0      0      1   \n",
      "\n",
      "     V9995  V9996  V9997  V9998  V9999  V10000  \n",
      "0        1      0      1      1      0       0  \n",
      "1        0      0      0      0      0       0  \n",
      "2        0      0      0      1      0       0  \n",
      "3        0      2      0      0      0       0  \n",
      "4        0      0      0      0      0       0  \n",
      "..     ...    ...    ...    ...    ...     ...  \n",
      "745      2      0      0      0      0       0  \n",
      "746      1      0      0      0      1       0  \n",
      "747      0      0      0      0      1       0  \n",
      "748      0      0      0      0      3       0  \n",
      "749      0      0      0      0      1       0  \n",
      "\n",
      "[750 rows x 10000 columns]\n"
     ]
    }
   ],
   "source": [
    "print(x_reviews_train)"
   ],
   "metadata": {
    "collapsed": false
   }
  },
  {
   "cell_type": "code",
   "execution_count": 43,
   "outputs": [
    {
     "name": "stdout",
     "output_type": "stream",
     "text": [
      "Number of NAs in the dataset: 0\n"
     ]
    }
   ],
   "source": [
    "print(\"Number of NAs in the dataset:\", x_reviews_train.isna().sum().sum())"
   ],
   "metadata": {
    "collapsed": false
   }
  },
  {
   "cell_type": "code",
   "execution_count": 44,
   "outputs": [
    {
     "data": {
      "text/plain": "     V1  V2  V3  V4  V5  V6  V7  V8  V9  V10  ...  V9991  V9992  V9993  V9994  \\\n0    12   8   9  10   9   4   0   3   2    1  ...      0      0      0      0   \n1     7   6   2   5   1   7   9   5   4   11  ...      4      0      0      0   \n2     9   7   3   7   5   3   1   2   5    1  ...      0      0      0      0   \n3     7   7   6   6   5   2  14   0   9    8  ...      0      0      0      0   \n4    26  13  11  15   6   4   3   5   4    1  ...      0      1      0      1   \n..   ..  ..  ..  ..  ..  ..  ..  ..  ..  ...  ...    ...    ...    ...    ...   \n745  14   5   4  11   7   4   2   3   2    0  ...      0      0      0      0   \n746  13  13   6   3  12   5   4   2   4   10  ...      0      0      1      0   \n747  12   9   2   4   2   4   2   8   5    1  ...      0      0      0      0   \n748   7   5   4   7  10   2   1   0   0    2  ...      0      0      0      0   \n749  12   5   4   8   5   2   2   0   1    2  ...      0      1      0      0   \n\n     V9995  V9996  V9997  V9998  V9999  V10000  \n0        0      0      0      0      0       0  \n1        0      0      0      0      0       0  \n2        0      1      0      1      0       0  \n3        0      0      0      0      1       0  \n4        0      0      0      1      1       0  \n..     ...    ...    ...    ...    ...     ...  \n745      0      1      0      0      0       0  \n746      0      1      0      0      2       0  \n747      0      0      0      0      0       0  \n748      0      0      0      0      0       0  \n749      0      0      0      0      0       0  \n\n[750 rows x 10000 columns]",
      "text/html": "<div>\n<style scoped>\n    .dataframe tbody tr th:only-of-type {\n        vertical-align: middle;\n    }\n\n    .dataframe tbody tr th {\n        vertical-align: top;\n    }\n\n    .dataframe thead th {\n        text-align: right;\n    }\n</style>\n<table border=\"1\" class=\"dataframe\">\n  <thead>\n    <tr style=\"text-align: right;\">\n      <th></th>\n      <th>V1</th>\n      <th>V2</th>\n      <th>V3</th>\n      <th>V4</th>\n      <th>V5</th>\n      <th>V6</th>\n      <th>V7</th>\n      <th>V8</th>\n      <th>V9</th>\n      <th>V10</th>\n      <th>...</th>\n      <th>V9991</th>\n      <th>V9992</th>\n      <th>V9993</th>\n      <th>V9994</th>\n      <th>V9995</th>\n      <th>V9996</th>\n      <th>V9997</th>\n      <th>V9998</th>\n      <th>V9999</th>\n      <th>V10000</th>\n    </tr>\n  </thead>\n  <tbody>\n    <tr>\n      <th>0</th>\n      <td>12</td>\n      <td>8</td>\n      <td>9</td>\n      <td>10</td>\n      <td>9</td>\n      <td>4</td>\n      <td>0</td>\n      <td>3</td>\n      <td>2</td>\n      <td>1</td>\n      <td>...</td>\n      <td>0</td>\n      <td>0</td>\n      <td>0</td>\n      <td>0</td>\n      <td>0</td>\n      <td>0</td>\n      <td>0</td>\n      <td>0</td>\n      <td>0</td>\n      <td>0</td>\n    </tr>\n    <tr>\n      <th>1</th>\n      <td>7</td>\n      <td>6</td>\n      <td>2</td>\n      <td>5</td>\n      <td>1</td>\n      <td>7</td>\n      <td>9</td>\n      <td>5</td>\n      <td>4</td>\n      <td>11</td>\n      <td>...</td>\n      <td>4</td>\n      <td>0</td>\n      <td>0</td>\n      <td>0</td>\n      <td>0</td>\n      <td>0</td>\n      <td>0</td>\n      <td>0</td>\n      <td>0</td>\n      <td>0</td>\n    </tr>\n    <tr>\n      <th>2</th>\n      <td>9</td>\n      <td>7</td>\n      <td>3</td>\n      <td>7</td>\n      <td>5</td>\n      <td>3</td>\n      <td>1</td>\n      <td>2</td>\n      <td>5</td>\n      <td>1</td>\n      <td>...</td>\n      <td>0</td>\n      <td>0</td>\n      <td>0</td>\n      <td>0</td>\n      <td>0</td>\n      <td>1</td>\n      <td>0</td>\n      <td>1</td>\n      <td>0</td>\n      <td>0</td>\n    </tr>\n    <tr>\n      <th>3</th>\n      <td>7</td>\n      <td>7</td>\n      <td>6</td>\n      <td>6</td>\n      <td>5</td>\n      <td>2</td>\n      <td>14</td>\n      <td>0</td>\n      <td>9</td>\n      <td>8</td>\n      <td>...</td>\n      <td>0</td>\n      <td>0</td>\n      <td>0</td>\n      <td>0</td>\n      <td>0</td>\n      <td>0</td>\n      <td>0</td>\n      <td>0</td>\n      <td>1</td>\n      <td>0</td>\n    </tr>\n    <tr>\n      <th>4</th>\n      <td>26</td>\n      <td>13</td>\n      <td>11</td>\n      <td>15</td>\n      <td>6</td>\n      <td>4</td>\n      <td>3</td>\n      <td>5</td>\n      <td>4</td>\n      <td>1</td>\n      <td>...</td>\n      <td>0</td>\n      <td>1</td>\n      <td>0</td>\n      <td>1</td>\n      <td>0</td>\n      <td>0</td>\n      <td>0</td>\n      <td>1</td>\n      <td>1</td>\n      <td>0</td>\n    </tr>\n    <tr>\n      <th>...</th>\n      <td>...</td>\n      <td>...</td>\n      <td>...</td>\n      <td>...</td>\n      <td>...</td>\n      <td>...</td>\n      <td>...</td>\n      <td>...</td>\n      <td>...</td>\n      <td>...</td>\n      <td>...</td>\n      <td>...</td>\n      <td>...</td>\n      <td>...</td>\n      <td>...</td>\n      <td>...</td>\n      <td>...</td>\n      <td>...</td>\n      <td>...</td>\n      <td>...</td>\n      <td>...</td>\n    </tr>\n    <tr>\n      <th>745</th>\n      <td>14</td>\n      <td>5</td>\n      <td>4</td>\n      <td>11</td>\n      <td>7</td>\n      <td>4</td>\n      <td>2</td>\n      <td>3</td>\n      <td>2</td>\n      <td>0</td>\n      <td>...</td>\n      <td>0</td>\n      <td>0</td>\n      <td>0</td>\n      <td>0</td>\n      <td>0</td>\n      <td>1</td>\n      <td>0</td>\n      <td>0</td>\n      <td>0</td>\n      <td>0</td>\n    </tr>\n    <tr>\n      <th>746</th>\n      <td>13</td>\n      <td>13</td>\n      <td>6</td>\n      <td>3</td>\n      <td>12</td>\n      <td>5</td>\n      <td>4</td>\n      <td>2</td>\n      <td>4</td>\n      <td>10</td>\n      <td>...</td>\n      <td>0</td>\n      <td>0</td>\n      <td>1</td>\n      <td>0</td>\n      <td>0</td>\n      <td>1</td>\n      <td>0</td>\n      <td>0</td>\n      <td>2</td>\n      <td>0</td>\n    </tr>\n    <tr>\n      <th>747</th>\n      <td>12</td>\n      <td>9</td>\n      <td>2</td>\n      <td>4</td>\n      <td>2</td>\n      <td>4</td>\n      <td>2</td>\n      <td>8</td>\n      <td>5</td>\n      <td>1</td>\n      <td>...</td>\n      <td>0</td>\n      <td>0</td>\n      <td>0</td>\n      <td>0</td>\n      <td>0</td>\n      <td>0</td>\n      <td>0</td>\n      <td>0</td>\n      <td>0</td>\n      <td>0</td>\n    </tr>\n    <tr>\n      <th>748</th>\n      <td>7</td>\n      <td>5</td>\n      <td>4</td>\n      <td>7</td>\n      <td>10</td>\n      <td>2</td>\n      <td>1</td>\n      <td>0</td>\n      <td>0</td>\n      <td>2</td>\n      <td>...</td>\n      <td>0</td>\n      <td>0</td>\n      <td>0</td>\n      <td>0</td>\n      <td>0</td>\n      <td>0</td>\n      <td>0</td>\n      <td>0</td>\n      <td>0</td>\n      <td>0</td>\n    </tr>\n    <tr>\n      <th>749</th>\n      <td>12</td>\n      <td>5</td>\n      <td>4</td>\n      <td>8</td>\n      <td>5</td>\n      <td>2</td>\n      <td>2</td>\n      <td>0</td>\n      <td>1</td>\n      <td>2</td>\n      <td>...</td>\n      <td>0</td>\n      <td>1</td>\n      <td>0</td>\n      <td>0</td>\n      <td>0</td>\n      <td>0</td>\n      <td>0</td>\n      <td>0</td>\n      <td>0</td>\n      <td>0</td>\n    </tr>\n  </tbody>\n</table>\n<p>750 rows × 10000 columns</p>\n</div>"
     },
     "execution_count": 44,
     "metadata": {},
     "output_type": "execute_result"
    }
   ],
   "source": [
    "reviews_test_ID = reviews_test['ID']\n",
    "reviews_test = reviews_test.drop(\"ID\", axis=1)\n",
    "reviews_test"
   ],
   "metadata": {
    "collapsed": false
   }
  },
  {
   "cell_type": "markdown",
   "source": [
    "all variables appear to be some sort of rating, I guess either number of views (streams/clicks) or a certain number given as a rating. its not a likert rating, as the numbers per product even go up to over 30. if we had any evidence that the ratings were a fixed scale we could use the numbers as is, but since we do ot have that I guess it might be wise to scale the data (but make the step optional just in case)\n",
    "\n",
    "\n",
    "let's stick with mix-max-scaling"
   ],
   "metadata": {
    "collapsed": false
   }
  },
  {
   "cell_type": "code",
   "execution_count": 45,
   "outputs": [],
   "source": [
    "# shuffle the data\n",
    "x_reviews_train, y_reviews_train = shuffle(x_reviews_train, y_reviews_train)\n"
   ],
   "metadata": {
    "collapsed": false
   }
  },
  {
   "cell_type": "code",
   "execution_count": 46,
   "outputs": [],
   "source": [
    "# preprocessing\n",
    "\n",
    "# apply the preprocessing pipeline, to both the training and test data\n",
    "x_reviews_train_preprocessed = pd.DataFrame(preprocessor.fit_transform(x_reviews_train))\n",
    "# salvage the column names\n",
    "x_reviews_train_preprocessed.columns = x_reviews_train.columns\n",
    "\n",
    "# apply the preprocessing pipeline, to both the training and test data\n",
    "x_reviews_test_preprocessed = pd.DataFrame(preprocessor.fit_transform(reviews_test))\n",
    "# salvage the column names\n",
    "x_reviews_test_preprocessed.columns = reviews_test.columns\n",
    "\n"
   ],
   "metadata": {
    "collapsed": false
   }
  },
  {
   "cell_type": "code",
   "execution_count": 74,
   "outputs": [],
   "source": [
    "with open('data/reviews/preprocessed_reviews_data.pickle', 'wb') as handle:\n",
    "        pickle.dump([x_reviews_train_preprocessed, y_reviews_train, x_reviews_test_preprocessed, reviews_test_ID], handle)"
   ],
   "metadata": {
    "collapsed": false
   }
  },
  {
   "cell_type": "code",
   "execution_count": 72,
   "outputs": [
    {
     "data": {
      "text/plain": "          V1        V2    V3    V4        V5        V6        V7        V8  \\\n0    0.28125  0.428571  0.40  0.08  0.291667  0.333333  0.000000  0.500000   \n1    0.40625  0.523810  0.25  0.52  0.166667  0.200000  0.111111  0.214286   \n2    0.53125  0.285714  0.20  0.44  0.458333  0.333333  0.611111  0.500000   \n3    0.50000  0.428571  0.90  0.68  0.083333  0.666667  0.000000  0.571429   \n4    0.09375  0.190476  0.15  0.04  0.208333  0.133333  0.500000  0.071429   \n..       ...       ...   ...   ...       ...       ...       ...       ...   \n745  0.18750  0.190476  0.05  0.08  0.166667  0.066667  0.000000  0.000000   \n746  0.37500  0.428571  0.30  0.40  0.250000  0.400000  0.000000  0.285714   \n747  0.34375  0.095238  0.10  0.20  0.208333  0.133333  0.333333  0.214286   \n748  0.28125  0.571429  0.55  0.28  0.125000  0.533333  0.388889  0.214286   \n749  0.78125  0.333333  0.10  0.52  0.291667  0.466667  0.000000  0.285714   \n\n           V9       V10  ...  V9991     V9992  V9993  V9994  V9995  V9996  \\\n0    0.230769  0.263158  ...   0.00  0.000000   0.00    0.0    0.0   0.00   \n1    0.153846  0.000000  ...   0.25  0.000000   0.00    0.0    0.0   0.00   \n2    0.692308  0.105263  ...   0.00  0.000000   0.00    0.2    0.0   0.00   \n3    0.384615  0.105263  ...   0.00  0.000000   0.00    0.0    0.0   0.25   \n4    0.307692  0.052632  ...   0.25  0.000000   0.00    0.0    0.0   0.00   \n..        ...       ...  ...    ...       ...    ...    ...    ...    ...   \n745  0.076923  0.052632  ...   0.00  0.000000   0.00    0.0    0.0   0.00   \n746  0.076923  0.105263  ...   0.00  0.000000   0.25    0.0    0.0   0.00   \n747  0.384615  0.052632  ...   0.00  0.166667   0.00    0.0    0.0   0.25   \n748  0.384615  0.210526  ...   0.00  0.000000   0.00    0.0    0.0   0.00   \n749  0.153846  0.157895  ...   0.00  0.000000   0.25    0.0    0.0   0.00   \n\n        V9997     V9998     V9999  V10000  \n0    0.000000  0.000000  0.000000     0.0  \n1    0.000000  0.000000  0.333333     0.0  \n2    0.333333  0.000000  0.000000     0.0  \n3    0.000000  0.000000  0.000000     0.0  \n4    0.000000  0.333333  0.000000     0.0  \n..        ...       ...       ...     ...  \n745  0.000000  0.000000  0.000000     0.0  \n746  0.333333  0.000000  0.000000     0.0  \n747  0.000000  0.000000  0.000000     0.0  \n748  0.000000  0.000000  0.333333     0.0  \n749  0.000000  0.000000  0.000000     0.0  \n\n[750 rows x 10000 columns]",
      "text/html": "<div>\n<style scoped>\n    .dataframe tbody tr th:only-of-type {\n        vertical-align: middle;\n    }\n\n    .dataframe tbody tr th {\n        vertical-align: top;\n    }\n\n    .dataframe thead th {\n        text-align: right;\n    }\n</style>\n<table border=\"1\" class=\"dataframe\">\n  <thead>\n    <tr style=\"text-align: right;\">\n      <th></th>\n      <th>V1</th>\n      <th>V2</th>\n      <th>V3</th>\n      <th>V4</th>\n      <th>V5</th>\n      <th>V6</th>\n      <th>V7</th>\n      <th>V8</th>\n      <th>V9</th>\n      <th>V10</th>\n      <th>...</th>\n      <th>V9991</th>\n      <th>V9992</th>\n      <th>V9993</th>\n      <th>V9994</th>\n      <th>V9995</th>\n      <th>V9996</th>\n      <th>V9997</th>\n      <th>V9998</th>\n      <th>V9999</th>\n      <th>V10000</th>\n    </tr>\n  </thead>\n  <tbody>\n    <tr>\n      <th>0</th>\n      <td>0.28125</td>\n      <td>0.428571</td>\n      <td>0.40</td>\n      <td>0.08</td>\n      <td>0.291667</td>\n      <td>0.333333</td>\n      <td>0.000000</td>\n      <td>0.500000</td>\n      <td>0.230769</td>\n      <td>0.263158</td>\n      <td>...</td>\n      <td>0.00</td>\n      <td>0.000000</td>\n      <td>0.00</td>\n      <td>0.0</td>\n      <td>0.0</td>\n      <td>0.00</td>\n      <td>0.000000</td>\n      <td>0.000000</td>\n      <td>0.000000</td>\n      <td>0.0</td>\n    </tr>\n    <tr>\n      <th>1</th>\n      <td>0.40625</td>\n      <td>0.523810</td>\n      <td>0.25</td>\n      <td>0.52</td>\n      <td>0.166667</td>\n      <td>0.200000</td>\n      <td>0.111111</td>\n      <td>0.214286</td>\n      <td>0.153846</td>\n      <td>0.000000</td>\n      <td>...</td>\n      <td>0.25</td>\n      <td>0.000000</td>\n      <td>0.00</td>\n      <td>0.0</td>\n      <td>0.0</td>\n      <td>0.00</td>\n      <td>0.000000</td>\n      <td>0.000000</td>\n      <td>0.333333</td>\n      <td>0.0</td>\n    </tr>\n    <tr>\n      <th>2</th>\n      <td>0.53125</td>\n      <td>0.285714</td>\n      <td>0.20</td>\n      <td>0.44</td>\n      <td>0.458333</td>\n      <td>0.333333</td>\n      <td>0.611111</td>\n      <td>0.500000</td>\n      <td>0.692308</td>\n      <td>0.105263</td>\n      <td>...</td>\n      <td>0.00</td>\n      <td>0.000000</td>\n      <td>0.00</td>\n      <td>0.2</td>\n      <td>0.0</td>\n      <td>0.00</td>\n      <td>0.333333</td>\n      <td>0.000000</td>\n      <td>0.000000</td>\n      <td>0.0</td>\n    </tr>\n    <tr>\n      <th>3</th>\n      <td>0.50000</td>\n      <td>0.428571</td>\n      <td>0.90</td>\n      <td>0.68</td>\n      <td>0.083333</td>\n      <td>0.666667</td>\n      <td>0.000000</td>\n      <td>0.571429</td>\n      <td>0.384615</td>\n      <td>0.105263</td>\n      <td>...</td>\n      <td>0.00</td>\n      <td>0.000000</td>\n      <td>0.00</td>\n      <td>0.0</td>\n      <td>0.0</td>\n      <td>0.25</td>\n      <td>0.000000</td>\n      <td>0.000000</td>\n      <td>0.000000</td>\n      <td>0.0</td>\n    </tr>\n    <tr>\n      <th>4</th>\n      <td>0.09375</td>\n      <td>0.190476</td>\n      <td>0.15</td>\n      <td>0.04</td>\n      <td>0.208333</td>\n      <td>0.133333</td>\n      <td>0.500000</td>\n      <td>0.071429</td>\n      <td>0.307692</td>\n      <td>0.052632</td>\n      <td>...</td>\n      <td>0.25</td>\n      <td>0.000000</td>\n      <td>0.00</td>\n      <td>0.0</td>\n      <td>0.0</td>\n      <td>0.00</td>\n      <td>0.000000</td>\n      <td>0.333333</td>\n      <td>0.000000</td>\n      <td>0.0</td>\n    </tr>\n    <tr>\n      <th>...</th>\n      <td>...</td>\n      <td>...</td>\n      <td>...</td>\n      <td>...</td>\n      <td>...</td>\n      <td>...</td>\n      <td>...</td>\n      <td>...</td>\n      <td>...</td>\n      <td>...</td>\n      <td>...</td>\n      <td>...</td>\n      <td>...</td>\n      <td>...</td>\n      <td>...</td>\n      <td>...</td>\n      <td>...</td>\n      <td>...</td>\n      <td>...</td>\n      <td>...</td>\n      <td>...</td>\n    </tr>\n    <tr>\n      <th>745</th>\n      <td>0.18750</td>\n      <td>0.190476</td>\n      <td>0.05</td>\n      <td>0.08</td>\n      <td>0.166667</td>\n      <td>0.066667</td>\n      <td>0.000000</td>\n      <td>0.000000</td>\n      <td>0.076923</td>\n      <td>0.052632</td>\n      <td>...</td>\n      <td>0.00</td>\n      <td>0.000000</td>\n      <td>0.00</td>\n      <td>0.0</td>\n      <td>0.0</td>\n      <td>0.00</td>\n      <td>0.000000</td>\n      <td>0.000000</td>\n      <td>0.000000</td>\n      <td>0.0</td>\n    </tr>\n    <tr>\n      <th>746</th>\n      <td>0.37500</td>\n      <td>0.428571</td>\n      <td>0.30</td>\n      <td>0.40</td>\n      <td>0.250000</td>\n      <td>0.400000</td>\n      <td>0.000000</td>\n      <td>0.285714</td>\n      <td>0.076923</td>\n      <td>0.105263</td>\n      <td>...</td>\n      <td>0.00</td>\n      <td>0.000000</td>\n      <td>0.25</td>\n      <td>0.0</td>\n      <td>0.0</td>\n      <td>0.00</td>\n      <td>0.333333</td>\n      <td>0.000000</td>\n      <td>0.000000</td>\n      <td>0.0</td>\n    </tr>\n    <tr>\n      <th>747</th>\n      <td>0.34375</td>\n      <td>0.095238</td>\n      <td>0.10</td>\n      <td>0.20</td>\n      <td>0.208333</td>\n      <td>0.133333</td>\n      <td>0.333333</td>\n      <td>0.214286</td>\n      <td>0.384615</td>\n      <td>0.052632</td>\n      <td>...</td>\n      <td>0.00</td>\n      <td>0.166667</td>\n      <td>0.00</td>\n      <td>0.0</td>\n      <td>0.0</td>\n      <td>0.25</td>\n      <td>0.000000</td>\n      <td>0.000000</td>\n      <td>0.000000</td>\n      <td>0.0</td>\n    </tr>\n    <tr>\n      <th>748</th>\n      <td>0.28125</td>\n      <td>0.571429</td>\n      <td>0.55</td>\n      <td>0.28</td>\n      <td>0.125000</td>\n      <td>0.533333</td>\n      <td>0.388889</td>\n      <td>0.214286</td>\n      <td>0.384615</td>\n      <td>0.210526</td>\n      <td>...</td>\n      <td>0.00</td>\n      <td>0.000000</td>\n      <td>0.00</td>\n      <td>0.0</td>\n      <td>0.0</td>\n      <td>0.00</td>\n      <td>0.000000</td>\n      <td>0.000000</td>\n      <td>0.333333</td>\n      <td>0.0</td>\n    </tr>\n    <tr>\n      <th>749</th>\n      <td>0.78125</td>\n      <td>0.333333</td>\n      <td>0.10</td>\n      <td>0.52</td>\n      <td>0.291667</td>\n      <td>0.466667</td>\n      <td>0.000000</td>\n      <td>0.285714</td>\n      <td>0.153846</td>\n      <td>0.157895</td>\n      <td>...</td>\n      <td>0.00</td>\n      <td>0.000000</td>\n      <td>0.25</td>\n      <td>0.0</td>\n      <td>0.0</td>\n      <td>0.00</td>\n      <td>0.000000</td>\n      <td>0.000000</td>\n      <td>0.000000</td>\n      <td>0.0</td>\n    </tr>\n  </tbody>\n</table>\n<p>750 rows × 10000 columns</p>\n</div>"
     },
     "execution_count": 72,
     "metadata": {},
     "output_type": "execute_result"
    }
   ],
   "source": [
    "x_reviews_train_preprocessed"
   ],
   "metadata": {
    "collapsed": false
   }
  },
  {
   "cell_type": "markdown",
   "source": [
    "## Dataset 4: Congress"
   ],
   "metadata": {
    "collapsed": false
   }
  },
  {
   "cell_type": "code",
   "execution_count": 49,
   "outputs": [],
   "source": [
    "congress_train = pd.read_csv(\"data/congress/CongressionalVotingID.shuf.lrn.csv\")\n",
    "sample_solution = pd.read_csv(\"data/congress/CongressionalVotingID.shuf.sol.ex.csv\")\n",
    "x_congress_test = pd.read_csv(\"data/congress/CongressionalVotingID.shuf.tes.csv\")"
   ],
   "metadata": {
    "collapsed": false
   }
  },
  {
   "cell_type": "code",
   "execution_count": 50,
   "outputs": [],
   "source": [
    "#Extracting independent variables\n",
    "y_congress_train = congress_train['class']"
   ],
   "metadata": {
    "collapsed": false
   }
  },
  {
   "cell_type": "code",
   "execution_count": 51,
   "outputs": [
    {
     "data": {
      "text/plain": "      ID\n0    102\n1    413\n2     30\n3    298\n4     95\n..   ...\n212  179\n213  256\n214  278\n215  264\n216  226\n\n[217 rows x 1 columns]",
      "text/html": "<div>\n<style scoped>\n    .dataframe tbody tr th:only-of-type {\n        vertical-align: middle;\n    }\n\n    .dataframe tbody tr th {\n        vertical-align: top;\n    }\n\n    .dataframe thead th {\n        text-align: right;\n    }\n</style>\n<table border=\"1\" class=\"dataframe\">\n  <thead>\n    <tr style=\"text-align: right;\">\n      <th></th>\n      <th>ID</th>\n    </tr>\n  </thead>\n  <tbody>\n    <tr>\n      <th>0</th>\n      <td>102</td>\n    </tr>\n    <tr>\n      <th>1</th>\n      <td>413</td>\n    </tr>\n    <tr>\n      <th>2</th>\n      <td>30</td>\n    </tr>\n    <tr>\n      <th>3</th>\n      <td>298</td>\n    </tr>\n    <tr>\n      <th>4</th>\n      <td>95</td>\n    </tr>\n    <tr>\n      <th>...</th>\n      <td>...</td>\n    </tr>\n    <tr>\n      <th>212</th>\n      <td>179</td>\n    </tr>\n    <tr>\n      <th>213</th>\n      <td>256</td>\n    </tr>\n    <tr>\n      <th>214</th>\n      <td>278</td>\n    </tr>\n    <tr>\n      <th>215</th>\n      <td>264</td>\n    </tr>\n    <tr>\n      <th>216</th>\n      <td>226</td>\n    </tr>\n  </tbody>\n</table>\n<p>217 rows × 1 columns</p>\n</div>"
     },
     "execution_count": 51,
     "metadata": {},
     "output_type": "execute_result"
    }
   ],
   "source": [
    "#Extract dependent variable\n",
    "x_congress_train = congress_train.drop([\"ID\", \"class\"], axis=1)\n",
    "congress_test_ID=pd.DataFrame(x_congress_test['ID'])\n",
    "x_congress_test = x_congress_test.drop([\"ID\"], axis=1)\n",
    "congress_test_ID"
   ],
   "metadata": {
    "collapsed": false
   }
  },
  {
   "cell_type": "code",
   "execution_count": 52,
   "outputs": [
    {
     "data": {
      "text/plain": "       handicapped-infants water-project-cost-sharing  \\\ncount                  218                        218   \nunique                   3                          3   \ntop                      n                          n   \nfreq                   110                         99   \n\n       adoption-of-the-budget-resolution physician-fee-freeze el-salvador-aid  \\\ncount                                218                  218             218   \nunique                                 3                    3               3   \ntop                                    y                    n               n   \nfreq                                 131                  130             110   \n\n       religious-groups-in-schools anti-satellite-test-ban  \\\ncount                          218                     218   \nunique                           3                       3   \ntop                              y                       y   \nfreq                           131                     126   \n\n       aid-to-nicaraguan-contras mx-missile immigration  \\\ncount                        218        218         218   \nunique                         3          3           3   \ntop                            y          y           n   \nfreq                         128        105         108   \n\n       synfuels-crporation-cutback education-spending superfund-right-to-sue  \\\ncount                          218                218                    218   \nunique                           3                  3                      3   \ntop                              n                  n                      n   \nfreq                           134                125                    103   \n\n       crime duty-free-exports export-administration-act-south-africa  \ncount    218               218                                    218  \nunique     3                 3                                      3  \ntop        y                 n                                      y  \nfreq     112               108                                    130  ",
      "text/html": "<div>\n<style scoped>\n    .dataframe tbody tr th:only-of-type {\n        vertical-align: middle;\n    }\n\n    .dataframe tbody tr th {\n        vertical-align: top;\n    }\n\n    .dataframe thead th {\n        text-align: right;\n    }\n</style>\n<table border=\"1\" class=\"dataframe\">\n  <thead>\n    <tr style=\"text-align: right;\">\n      <th></th>\n      <th>handicapped-infants</th>\n      <th>water-project-cost-sharing</th>\n      <th>adoption-of-the-budget-resolution</th>\n      <th>physician-fee-freeze</th>\n      <th>el-salvador-aid</th>\n      <th>religious-groups-in-schools</th>\n      <th>anti-satellite-test-ban</th>\n      <th>aid-to-nicaraguan-contras</th>\n      <th>mx-missile</th>\n      <th>immigration</th>\n      <th>synfuels-crporation-cutback</th>\n      <th>education-spending</th>\n      <th>superfund-right-to-sue</th>\n      <th>crime</th>\n      <th>duty-free-exports</th>\n      <th>export-administration-act-south-africa</th>\n    </tr>\n  </thead>\n  <tbody>\n    <tr>\n      <th>count</th>\n      <td>218</td>\n      <td>218</td>\n      <td>218</td>\n      <td>218</td>\n      <td>218</td>\n      <td>218</td>\n      <td>218</td>\n      <td>218</td>\n      <td>218</td>\n      <td>218</td>\n      <td>218</td>\n      <td>218</td>\n      <td>218</td>\n      <td>218</td>\n      <td>218</td>\n      <td>218</td>\n    </tr>\n    <tr>\n      <th>unique</th>\n      <td>3</td>\n      <td>3</td>\n      <td>3</td>\n      <td>3</td>\n      <td>3</td>\n      <td>3</td>\n      <td>3</td>\n      <td>3</td>\n      <td>3</td>\n      <td>3</td>\n      <td>3</td>\n      <td>3</td>\n      <td>3</td>\n      <td>3</td>\n      <td>3</td>\n      <td>3</td>\n    </tr>\n    <tr>\n      <th>top</th>\n      <td>n</td>\n      <td>n</td>\n      <td>y</td>\n      <td>n</td>\n      <td>n</td>\n      <td>y</td>\n      <td>y</td>\n      <td>y</td>\n      <td>y</td>\n      <td>n</td>\n      <td>n</td>\n      <td>n</td>\n      <td>n</td>\n      <td>y</td>\n      <td>n</td>\n      <td>y</td>\n    </tr>\n    <tr>\n      <th>freq</th>\n      <td>110</td>\n      <td>99</td>\n      <td>131</td>\n      <td>130</td>\n      <td>110</td>\n      <td>131</td>\n      <td>126</td>\n      <td>128</td>\n      <td>105</td>\n      <td>108</td>\n      <td>134</td>\n      <td>125</td>\n      <td>103</td>\n      <td>112</td>\n      <td>108</td>\n      <td>130</td>\n    </tr>\n  </tbody>\n</table>\n</div>"
     },
     "execution_count": 52,
     "metadata": {},
     "output_type": "execute_result"
    }
   ],
   "source": [
    "x_congress_summary = x_congress_train.describe()\n",
    "x_congress_summary"
   ],
   "metadata": {
    "collapsed": false
   }
  },
  {
   "cell_type": "code",
   "execution_count": 53,
   "outputs": [
    {
     "name": "stdout",
     "output_type": "stream",
     "text": [
      "107\n"
     ]
    }
   ],
   "source": [
    "total_unknown_rows = x_congress_train[x_congress_train.eq('unknown').any(axis=1)].shape[0]\n",
    "print(total_unknown_rows)"
   ],
   "metadata": {
    "collapsed": false
   }
  },
  {
   "cell_type": "code",
   "execution_count": 54,
   "outputs": [
    {
     "data": {
      "text/plain": "     handicapped-infants  water-project-cost-sharing  \\\n0                    0.0                         1.0   \n1                    1.0                         0.0   \n2                    0.0                         0.0   \n3                    0.0                         1.0   \n4                    1.0                         0.0   \n..                   ...                         ...   \n213                  0.0                         1.0   \n214                  0.0                         1.0   \n215                  0.0                         0.0   \n216                  1.0                         1.0   \n217                  0.0                         1.0   \n\n     adoption-of-the-budget-resolution  physician-fee-freeze  el-salvador-aid  \\\n0                                  1.0                   0.0              0.0   \n1                                  0.0                   1.0              1.0   \n2                                  0.0                   1.0              1.0   \n3                                  1.0                   0.0              0.0   \n4                                  1.0                   1.0              1.0   \n..                                 ...                   ...              ...   \n213                                1.0                   0.0              0.0   \n214                                1.0                   0.0              1.0   \n215                                0.0                   1.0              1.0   \n216                                1.0                   0.0              1.0   \n217                                0.0                   1.0              1.0   \n\n     religious-groups-in-schools  anti-satellite-test-ban  \\\n0                            0.0                      1.0   \n1                            0.0                      1.0   \n2                            1.0                      0.0   \n3                            1.0                      1.0   \n4                            1.0                      1.0   \n..                           ...                      ...   \n213                          1.0                      0.0   \n214                          1.0                      0.0   \n215                          1.0                      0.0   \n216                          1.0                      0.0   \n217                          1.0                      0.0   \n\n     aid-to-nicaraguan-contras  mx-missile  immigration  \\\n0                          1.0         0.0          0.0   \n1                          0.0         0.0          1.0   \n2                          0.0         0.0          1.0   \n3                          1.0         1.0          0.0   \n4                          1.0         0.0          1.0   \n..                         ...         ...          ...   \n213                        1.0         1.0          1.0   \n214                        1.0         0.0          1.0   \n215                        0.0         0.0          0.0   \n216                        1.0         0.0          1.0   \n217                        0.0         0.0          1.0   \n\n     synfuels-crporation-cutback  education-spending  superfund-right-to-sue  \\\n0                            1.0                 0.0                     0.0   \n1                            0.0                 0.0                     0.0   \n2                            0.0                 1.0                     0.0   \n3                            1.0                 1.0                     0.0   \n4                            1.0                 1.0                     0.0   \n..                           ...                 ...                     ...   \n213                          0.0                 0.0                     1.0   \n214                          1.0                 0.0                     1.0   \n215                          0.0                 1.0                     1.0   \n216                          1.0                 0.0                     1.0   \n217                          0.0                 1.0                     1.0   \n\n     crime  duty-free-exports  export-administration-act-south-africa  \n0      0.0                1.0                                     1.0  \n1      1.0                1.0                                     1.0  \n2      1.0                0.0                                     1.0  \n3      0.0                1.0                                     1.0  \n4      1.0                1.0                                     1.0  \n..     ...                ...                                     ...  \n213    1.0                0.0                                     1.0  \n214    1.0                0.5                                     1.0  \n215    1.0                0.0                                     0.0  \n216    1.0                0.0                                     1.0  \n217    1.0                0.0                                     0.0  \n\n[218 rows x 16 columns]",
      "text/html": "<div>\n<style scoped>\n    .dataframe tbody tr th:only-of-type {\n        vertical-align: middle;\n    }\n\n    .dataframe tbody tr th {\n        vertical-align: top;\n    }\n\n    .dataframe thead th {\n        text-align: right;\n    }\n</style>\n<table border=\"1\" class=\"dataframe\">\n  <thead>\n    <tr style=\"text-align: right;\">\n      <th></th>\n      <th>handicapped-infants</th>\n      <th>water-project-cost-sharing</th>\n      <th>adoption-of-the-budget-resolution</th>\n      <th>physician-fee-freeze</th>\n      <th>el-salvador-aid</th>\n      <th>religious-groups-in-schools</th>\n      <th>anti-satellite-test-ban</th>\n      <th>aid-to-nicaraguan-contras</th>\n      <th>mx-missile</th>\n      <th>immigration</th>\n      <th>synfuels-crporation-cutback</th>\n      <th>education-spending</th>\n      <th>superfund-right-to-sue</th>\n      <th>crime</th>\n      <th>duty-free-exports</th>\n      <th>export-administration-act-south-africa</th>\n    </tr>\n  </thead>\n  <tbody>\n    <tr>\n      <th>0</th>\n      <td>0.0</td>\n      <td>1.0</td>\n      <td>1.0</td>\n      <td>0.0</td>\n      <td>0.0</td>\n      <td>0.0</td>\n      <td>1.0</td>\n      <td>1.0</td>\n      <td>0.0</td>\n      <td>0.0</td>\n      <td>1.0</td>\n      <td>0.0</td>\n      <td>0.0</td>\n      <td>0.0</td>\n      <td>1.0</td>\n      <td>1.0</td>\n    </tr>\n    <tr>\n      <th>1</th>\n      <td>1.0</td>\n      <td>0.0</td>\n      <td>0.0</td>\n      <td>1.0</td>\n      <td>1.0</td>\n      <td>0.0</td>\n      <td>1.0</td>\n      <td>0.0</td>\n      <td>0.0</td>\n      <td>1.0</td>\n      <td>0.0</td>\n      <td>0.0</td>\n      <td>0.0</td>\n      <td>1.0</td>\n      <td>1.0</td>\n      <td>1.0</td>\n    </tr>\n    <tr>\n      <th>2</th>\n      <td>0.0</td>\n      <td>0.0</td>\n      <td>0.0</td>\n      <td>1.0</td>\n      <td>1.0</td>\n      <td>1.0</td>\n      <td>0.0</td>\n      <td>0.0</td>\n      <td>0.0</td>\n      <td>1.0</td>\n      <td>0.0</td>\n      <td>1.0</td>\n      <td>0.0</td>\n      <td>1.0</td>\n      <td>0.0</td>\n      <td>1.0</td>\n    </tr>\n    <tr>\n      <th>3</th>\n      <td>0.0</td>\n      <td>1.0</td>\n      <td>1.0</td>\n      <td>0.0</td>\n      <td>0.0</td>\n      <td>1.0</td>\n      <td>1.0</td>\n      <td>1.0</td>\n      <td>1.0</td>\n      <td>0.0</td>\n      <td>1.0</td>\n      <td>1.0</td>\n      <td>0.0</td>\n      <td>0.0</td>\n      <td>1.0</td>\n      <td>1.0</td>\n    </tr>\n    <tr>\n      <th>4</th>\n      <td>1.0</td>\n      <td>0.0</td>\n      <td>1.0</td>\n      <td>1.0</td>\n      <td>1.0</td>\n      <td>1.0</td>\n      <td>1.0</td>\n      <td>1.0</td>\n      <td>0.0</td>\n      <td>1.0</td>\n      <td>1.0</td>\n      <td>1.0</td>\n      <td>0.0</td>\n      <td>1.0</td>\n      <td>1.0</td>\n      <td>1.0</td>\n    </tr>\n    <tr>\n      <th>...</th>\n      <td>...</td>\n      <td>...</td>\n      <td>...</td>\n      <td>...</td>\n      <td>...</td>\n      <td>...</td>\n      <td>...</td>\n      <td>...</td>\n      <td>...</td>\n      <td>...</td>\n      <td>...</td>\n      <td>...</td>\n      <td>...</td>\n      <td>...</td>\n      <td>...</td>\n      <td>...</td>\n    </tr>\n    <tr>\n      <th>213</th>\n      <td>0.0</td>\n      <td>1.0</td>\n      <td>1.0</td>\n      <td>0.0</td>\n      <td>0.0</td>\n      <td>1.0</td>\n      <td>0.0</td>\n      <td>1.0</td>\n      <td>1.0</td>\n      <td>1.0</td>\n      <td>0.0</td>\n      <td>0.0</td>\n      <td>1.0</td>\n      <td>1.0</td>\n      <td>0.0</td>\n      <td>1.0</td>\n    </tr>\n    <tr>\n      <th>214</th>\n      <td>0.0</td>\n      <td>1.0</td>\n      <td>1.0</td>\n      <td>0.0</td>\n      <td>1.0</td>\n      <td>1.0</td>\n      <td>0.0</td>\n      <td>1.0</td>\n      <td>0.0</td>\n      <td>1.0</td>\n      <td>1.0</td>\n      <td>0.0</td>\n      <td>1.0</td>\n      <td>1.0</td>\n      <td>0.5</td>\n      <td>1.0</td>\n    </tr>\n    <tr>\n      <th>215</th>\n      <td>0.0</td>\n      <td>0.0</td>\n      <td>0.0</td>\n      <td>1.0</td>\n      <td>1.0</td>\n      <td>1.0</td>\n      <td>0.0</td>\n      <td>0.0</td>\n      <td>0.0</td>\n      <td>0.0</td>\n      <td>0.0</td>\n      <td>1.0</td>\n      <td>1.0</td>\n      <td>1.0</td>\n      <td>0.0</td>\n      <td>0.0</td>\n    </tr>\n    <tr>\n      <th>216</th>\n      <td>1.0</td>\n      <td>1.0</td>\n      <td>1.0</td>\n      <td>0.0</td>\n      <td>1.0</td>\n      <td>1.0</td>\n      <td>0.0</td>\n      <td>1.0</td>\n      <td>0.0</td>\n      <td>1.0</td>\n      <td>1.0</td>\n      <td>0.0</td>\n      <td>1.0</td>\n      <td>1.0</td>\n      <td>0.0</td>\n      <td>1.0</td>\n    </tr>\n    <tr>\n      <th>217</th>\n      <td>0.0</td>\n      <td>1.0</td>\n      <td>0.0</td>\n      <td>1.0</td>\n      <td>1.0</td>\n      <td>1.0</td>\n      <td>0.0</td>\n      <td>0.0</td>\n      <td>0.0</td>\n      <td>1.0</td>\n      <td>0.0</td>\n      <td>1.0</td>\n      <td>1.0</td>\n      <td>1.0</td>\n      <td>0.0</td>\n      <td>0.0</td>\n    </tr>\n  </tbody>\n</table>\n<p>218 rows × 16 columns</p>\n</div>"
     },
     "execution_count": 54,
     "metadata": {},
     "output_type": "execute_result"
    }
   ],
   "source": [
    "# shuffling the data\n",
    "x_congress_train, y_congress_train = shuffle(x_congress_train, y_congress_train)\n",
    "x_congress_test,congress_test_ID = shuffle(x_congress_test,congress_test_ID)\n",
    "\n",
    "# Replacing all \"unknown\" values with the mode of the given column\n",
    "x_congress_train.replace('unknown', pd.NA, inplace=True)\n",
    "x_congress_test.replace('unknown', pd.NA, inplace=True)\n",
    "# Replacing 'y' and 'n' with 1 and 0\n",
    "x_congress_train.replace({'y': 1, 'n': 0}, inplace=True)\n",
    "x_congress_test.replace({'y': 1, 'n': 0}, inplace=True)\n",
    "\n",
    "# I have no clue why I need to do this replacement twice\n",
    "# the original data stores NAs as \"<NA>\", which sklearn imputator cannot handle\n",
    "# np.nan it can handle though\n",
    "# when I run the second line of the following two, they are not replaced for some reason\n",
    "# BUT!!! if I go the other direction first, and then replace it backwards again, it works\n",
    "x_congress_train.replace({np.nan: \"<NA>\"}, inplace=True)\n",
    "x_congress_train.replace({\"<NA>\": np.nan}, inplace=True)\n",
    "#\n",
    "x_congress_test.replace({np.nan: \"<NA>\"}, inplace=True)\n",
    "x_congress_test.replace({\"<NA>\": np.nan}, inplace=True)\n",
    "\n",
    "\n",
    "# applying the preprocessor\n",
    "x_congress_train_processed = pd.DataFrame(preprocessor.fit_transform(x_congress_train))\n",
    "x_congress_test_processed = pd.DataFrame(preprocessor.fit_transform(x_congress_test))\n",
    "# salvage the original column names\n",
    "x_congress_train_processed.columns = x_congress_train.columns\n",
    "x_congress_test_processed.columns = x_congress_test.columns\n",
    "x_congress_train_processed\n"
   ],
   "metadata": {
    "collapsed": false
   }
  },
  {
   "cell_type": "code",
   "execution_count": 55,
   "outputs": [
    {
     "name": "stdout",
     "output_type": "stream",
     "text": [
      "before\n",
      "NAs in training set: 206\n",
      "NAs in training set: 186\n",
      "after\n",
      "NAs in training set: 0\n",
      "NAs in training set: 0\n"
     ]
    }
   ],
   "source": [
    "print(\"before\")\n",
    "print(\"NAs in training set:\", x_congress_train.isna().sum().sum())\n",
    "print(\"NAs in training set:\", x_congress_test.isna().sum().sum())\n",
    "print(\"after\")\n",
    "print(\"NAs in training set:\", x_congress_train_processed.isna().sum().sum())\n",
    "print(\"NAs in training set:\", x_congress_test_processed.isna().sum().sum())"
   ],
   "metadata": {
    "collapsed": false
   }
  },
  {
   "cell_type": "code",
   "execution_count": 56,
   "outputs": [
    {
     "data": {
      "text/plain": "<bound method Series.max of handicapped-infants                       110\nwater-project-cost-sharing                 99\nadoption-of-the-budget-resolution         131\nphysician-fee-freeze                      130\nel-salvador-aid                           110\nreligious-groups-in-schools               131\nanti-satellite-test-ban                   126\naid-to-nicaraguan-contras                 128\nmx-missile                                105\nimmigration                               108\nsynfuels-crporation-cutback               134\neducation-spending                        125\nsuperfund-right-to-sue                    103\ncrime                                     112\nduty-free-exports                         108\nexport-administration-act-south-africa    130\nName: freq, dtype: object>"
     },
     "execution_count": 56,
     "metadata": {},
     "output_type": "execute_result"
    }
   ],
   "source": [
    "x_congress_summary.loc[\"freq\"].max"
   ],
   "metadata": {
    "collapsed": false
   }
  },
  {
   "cell_type": "code",
   "execution_count": 75,
   "outputs": [],
   "source": [
    "with open('data/congress/preprocessed_congress_data.pickle', 'wb') as handle:\n",
    "        pickle.dump([x_congress_train_processed, y_congress_train, x_congress_test_processed, congress_test_ID], handle)"
   ],
   "metadata": {
    "collapsed": false
   }
  },
  {
   "cell_type": "code",
   "execution_count": null,
   "outputs": [],
   "source": [],
   "metadata": {
    "collapsed": false
   }
  }
 ],
 "metadata": {
  "kernelspec": {
   "display_name": "Python 3 (ipykernel)",
   "language": "python",
   "name": "python3"
  },
  "language_info": {
   "codemirror_mode": {
    "name": "ipython",
    "version": 3
   },
   "file_extension": ".py",
   "mimetype": "text/x-python",
   "name": "python",
   "nbconvert_exporter": "python",
   "pygments_lexer": "ipython3",
   "version": "3.10.13"
  }
 },
 "nbformat": 4,
 "nbformat_minor": 5
}
